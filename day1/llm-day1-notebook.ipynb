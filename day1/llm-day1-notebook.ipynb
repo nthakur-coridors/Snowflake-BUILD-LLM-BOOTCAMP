{
 "cells": [
  {
   "cell_type": "markdown",
   "metadata": {},
   "source": [
    "# BUILD LLM Bootcamp Day 1 "
   ]
  },
  {
   "cell_type": "markdown",
   "metadata": {},
   "source": [
    "Prerequisite: Run the following commands in a terminal window to create a conda environment.\n",
    "\n",
    "<pre>\n",
    "- conda create --name llm-bootcamp -c https://repo.anaconda.com/pkgs/snowflake python=3.9\n",
    "- conda activate llm-bootcamp\n",
    "- conda install -c https://repo.anaconda.com/pkgs/snowflake snowflake-snowpark-python pandas notebook\n",
    "<pre/>\n"
   ]
  },
  {
   "cell_type": "code",
   "execution_count": null,
   "metadata": {},
   "outputs": [],
   "source": []
  },
  {
   "cell_type": "markdown",
   "metadata": {},
   "source": []
  },
  {
   "cell_type": "markdown",
   "metadata": {},
   "source": []
  },
  {
   "cell_type": "code",
   "execution_count": null,
   "metadata": {},
   "outputs": [],
   "source": []
  },
  {
   "cell_type": "markdown",
   "metadata": {},
   "source": [
    "### Install Libraries"
   ]
  },
  {
   "cell_type": "code",
   "execution_count": 13,
   "metadata": {},
   "outputs": [
    {
     "name": "stdout",
     "output_type": "stream",
     "text": [
      "Requirement already satisfied: snowflake-ml-python==1.0.12 in c:\\users\\nikhil thakur\\anaconda3\\envs\\llm-bootcamp\\lib\\site-packages (1.0.12)\n",
      "Requirement already satisfied: absl-py<2,>=0.15 in c:\\users\\nikhil thakur\\anaconda3\\envs\\llm-bootcamp\\lib\\site-packages (from snowflake-ml-python==1.0.12) (1.4.0)\n",
      "Requirement already satisfied: anyio<4,>=3.5.0 in c:\\users\\nikhil thakur\\anaconda3\\envs\\llm-bootcamp\\lib\\site-packages (from snowflake-ml-python==1.0.12) (3.5.0)\n",
      "Requirement already satisfied: cachetools<5,>=3.1.1 in c:\\users\\nikhil thakur\\anaconda3\\envs\\llm-bootcamp\\lib\\site-packages (from snowflake-ml-python==1.0.12) (4.2.4)\n",
      "Requirement already satisfied: cloudpickle>=2.0.0 in c:\\users\\nikhil thakur\\anaconda3\\envs\\llm-bootcamp\\lib\\site-packages (from snowflake-ml-python==1.0.12) (2.0.0)\n",
      "Requirement already satisfied: fsspec<2024,>=2022.11 in c:\\users\\nikhil thakur\\anaconda3\\envs\\llm-bootcamp\\lib\\site-packages (from fsspec[http]<2024,>=2022.11->snowflake-ml-python==1.0.12) (2023.12.1)\n",
      "Requirement already satisfied: importlib_resources<6,>=5.1.4 in c:\\users\\nikhil thakur\\anaconda3\\envs\\llm-bootcamp\\lib\\site-packages (from snowflake-ml-python==1.0.12) (5.13.0)\n",
      "Requirement already satisfied: numpy<2,>=1.23 in c:\\users\\nikhil thakur\\anaconda3\\envs\\llm-bootcamp\\lib\\site-packages (from snowflake-ml-python==1.0.12) (1.26.0)\n",
      "Requirement already satisfied: packaging<24,>=20.9 in c:\\users\\nikhil thakur\\anaconda3\\envs\\llm-bootcamp\\lib\\site-packages (from snowflake-ml-python==1.0.12) (23.1)\n",
      "Requirement already satisfied: pandas<2,>=1.0.0 in c:\\users\\nikhil thakur\\anaconda3\\envs\\llm-bootcamp\\lib\\site-packages (from snowflake-ml-python==1.0.12) (1.5.3)\n",
      "Requirement already satisfied: pytimeparse<2,>=1.1.8 in c:\\users\\nikhil thakur\\anaconda3\\envs\\llm-bootcamp\\lib\\site-packages (from snowflake-ml-python==1.0.12) (1.1.8)\n",
      "Requirement already satisfied: pyyaml<7,>=6.0 in c:\\users\\nikhil thakur\\anaconda3\\envs\\llm-bootcamp\\lib\\site-packages (from snowflake-ml-python==1.0.12) (6.0.1)\n",
      "Requirement already satisfied: s3fs<2024,>=2022.11 in c:\\users\\nikhil thakur\\anaconda3\\envs\\llm-bootcamp\\lib\\site-packages (from snowflake-ml-python==1.0.12) (2023.12.1)\n",
      "Requirement already satisfied: scikit-learn<1.4,>=1.2.1 in c:\\users\\nikhil thakur\\anaconda3\\envs\\llm-bootcamp\\lib\\site-packages (from snowflake-ml-python==1.0.12) (1.3.2)\n",
      "Requirement already satisfied: scipy<2,>=1.9 in c:\\users\\nikhil thakur\\anaconda3\\envs\\llm-bootcamp\\lib\\site-packages (from snowflake-ml-python==1.0.12) (1.11.4)\n",
      "Requirement already satisfied: snowflake-connector-python<4,>=3.0.4 in c:\\users\\nikhil thakur\\anaconda3\\envs\\llm-bootcamp\\lib\\site-packages (from snowflake-connector-python[pandas]<4,>=3.0.4->snowflake-ml-python==1.0.12) (3.2.0)\n",
      "Requirement already satisfied: snowflake-snowpark-python<2,>=1.5.1 in c:\\users\\nikhil thakur\\anaconda3\\envs\\llm-bootcamp\\lib\\site-packages (from snowflake-ml-python==1.0.12) (1.9.0)\n",
      "Requirement already satisfied: sqlparse<1,>=0.4 in c:\\users\\nikhil thakur\\anaconda3\\envs\\llm-bootcamp\\lib\\site-packages (from snowflake-ml-python==1.0.12) (0.4.4)\n",
      "Requirement already satisfied: typing-extensions<5,>=4.1.0 in c:\\users\\nikhil thakur\\anaconda3\\envs\\llm-bootcamp\\lib\\site-packages (from snowflake-ml-python==1.0.12) (4.7.1)\n",
      "Requirement already satisfied: xgboost<2,>=1.7.3 in c:\\users\\nikhil thakur\\anaconda3\\envs\\llm-bootcamp\\lib\\site-packages (from snowflake-ml-python==1.0.12) (1.7.6)\n",
      "Requirement already satisfied: idna>=2.8 in c:\\users\\nikhil thakur\\anaconda3\\envs\\llm-bootcamp\\lib\\site-packages (from anyio<4,>=3.5.0->snowflake-ml-python==1.0.12) (3.4)\n",
      "Requirement already satisfied: sniffio>=1.1 in c:\\users\\nikhil thakur\\anaconda3\\envs\\llm-bootcamp\\lib\\site-packages (from anyio<4,>=3.5.0->snowflake-ml-python==1.0.12) (1.2.0)\n",
      "Requirement already satisfied: requests in c:\\users\\nikhil thakur\\anaconda3\\envs\\llm-bootcamp\\lib\\site-packages (from fsspec[http]<2024,>=2022.11->snowflake-ml-python==1.0.12) (2.31.0)\n",
      "Requirement already satisfied: aiohttp!=4.0.0a0,!=4.0.0a1 in c:\\users\\nikhil thakur\\anaconda3\\envs\\llm-bootcamp\\lib\\site-packages (from fsspec[http]<2024,>=2022.11->snowflake-ml-python==1.0.12) (3.9.1)\n",
      "Requirement already satisfied: zipp>=3.1.0 in c:\\users\\nikhil thakur\\anaconda3\\envs\\llm-bootcamp\\lib\\site-packages (from importlib_resources<6,>=5.1.4->snowflake-ml-python==1.0.12) (3.11.0)\n",
      "Requirement already satisfied: python-dateutil>=2.8.1 in c:\\users\\nikhil thakur\\anaconda3\\envs\\llm-bootcamp\\lib\\site-packages (from pandas<2,>=1.0.0->snowflake-ml-python==1.0.12) (2.8.3+snowflake1)\n",
      "Requirement already satisfied: pytz>=2020.1 in c:\\users\\nikhil thakur\\anaconda3\\envs\\llm-bootcamp\\lib\\site-packages (from pandas<2,>=1.0.0->snowflake-ml-python==1.0.12) (2023.3.post1)\n",
      "Requirement already satisfied: aiobotocore<3.0.0,>=2.5.4 in c:\\users\\nikhil thakur\\anaconda3\\envs\\llm-bootcamp\\lib\\site-packages (from s3fs<2024,>=2022.11->snowflake-ml-python==1.0.12) (2.8.0)\n",
      "Requirement already satisfied: joblib>=1.1.1 in c:\\users\\nikhil thakur\\anaconda3\\envs\\llm-bootcamp\\lib\\site-packages (from scikit-learn<1.4,>=1.2.1->snowflake-ml-python==1.0.12) (1.3.2)\n",
      "Requirement already satisfied: threadpoolctl>=2.0.0 in c:\\users\\nikhil thakur\\anaconda3\\envs\\llm-bootcamp\\lib\\site-packages (from scikit-learn<1.4,>=1.2.1->snowflake-ml-python==1.0.12) (3.2.0)\n",
      "Requirement already satisfied: asn1crypto<2.0.0,>0.24.0 in c:\\users\\nikhil thakur\\anaconda3\\envs\\llm-bootcamp\\lib\\site-packages (from snowflake-connector-python<4,>=3.0.4->snowflake-connector-python[pandas]<4,>=3.0.4->snowflake-ml-python==1.0.12) (1.5.1)\n",
      "Requirement already satisfied: cffi<2.0.0,>=1.9 in c:\\users\\nikhil thakur\\anaconda3\\envs\\llm-bootcamp\\lib\\site-packages (from snowflake-connector-python<4,>=3.0.4->snowflake-connector-python[pandas]<4,>=3.0.4->snowflake-ml-python==1.0.12) (1.15.1)\n",
      "Requirement already satisfied: cryptography<42.0.0,>=3.1.0 in c:\\users\\nikhil thakur\\anaconda3\\envs\\llm-bootcamp\\lib\\site-packages (from snowflake-connector-python<4,>=3.0.4->snowflake-connector-python[pandas]<4,>=3.0.4->snowflake-ml-python==1.0.12) (41.0.3)\n",
      "Requirement already satisfied: oscrypto<2.0.0 in c:\\users\\nikhil thakur\\anaconda3\\envs\\llm-bootcamp\\lib\\site-packages (from snowflake-connector-python<4,>=3.0.4->snowflake-connector-python[pandas]<4,>=3.0.4->snowflake-ml-python==1.0.12) (1.2.1)\n",
      "Requirement already satisfied: pyOpenSSL<24.0.0,>=16.2.0 in c:\\users\\nikhil thakur\\anaconda3\\envs\\llm-bootcamp\\lib\\site-packages (from snowflake-connector-python<4,>=3.0.4->snowflake-connector-python[pandas]<4,>=3.0.4->snowflake-ml-python==1.0.12) (23.2.0)\n",
      "Requirement already satisfied: pycryptodomex!=3.5.0,<4.0.0,>=3.2 in c:\\users\\nikhil thakur\\anaconda3\\envs\\llm-bootcamp\\lib\\site-packages (from snowflake-connector-python<4,>=3.0.4->snowflake-connector-python[pandas]<4,>=3.0.4->snowflake-ml-python==1.0.12) (3.15.0)\n",
      "Requirement already satisfied: pyjwt<3.0.0 in c:\\users\\nikhil thakur\\anaconda3\\envs\\llm-bootcamp\\lib\\site-packages (from snowflake-connector-python<4,>=3.0.4->snowflake-connector-python[pandas]<4,>=3.0.4->snowflake-ml-python==1.0.12) (2.4.0)\n",
      "Requirement already satisfied: charset-normalizer<4,>=2 in c:\\users\\nikhil thakur\\anaconda3\\envs\\llm-bootcamp\\lib\\site-packages (from snowflake-connector-python<4,>=3.0.4->snowflake-connector-python[pandas]<4,>=3.0.4->snowflake-ml-python==1.0.12) (2.0.4)\n",
      "Requirement already satisfied: urllib3<1.27,>=1.21.1 in c:\\users\\nikhil thakur\\anaconda3\\envs\\llm-bootcamp\\lib\\site-packages (from snowflake-connector-python<4,>=3.0.4->snowflake-connector-python[pandas]<4,>=3.0.4->snowflake-ml-python==1.0.12) (1.26.18)\n",
      "Requirement already satisfied: certifi>=2017.4.17 in c:\\users\\nikhil thakur\\anaconda3\\envs\\llm-bootcamp\\lib\\site-packages (from snowflake-connector-python<4,>=3.0.4->snowflake-connector-python[pandas]<4,>=3.0.4->snowflake-ml-python==1.0.12) (2023.7.22)\n",
      "Requirement already satisfied: filelock<4,>=3.5 in c:\\users\\nikhil thakur\\anaconda3\\envs\\llm-bootcamp\\lib\\site-packages (from snowflake-connector-python<4,>=3.0.4->snowflake-connector-python[pandas]<4,>=3.0.4->snowflake-ml-python==1.0.12) (3.9.0)\n",
      "Requirement already satisfied: sortedcontainers>=2.4.0 in c:\\users\\nikhil thakur\\anaconda3\\envs\\llm-bootcamp\\lib\\site-packages (from snowflake-connector-python<4,>=3.0.4->snowflake-connector-python[pandas]<4,>=3.0.4->snowflake-ml-python==1.0.12) (2.4.0)\n",
      "Requirement already satisfied: platformdirs<3.9.0,>=2.6.0 in c:\\users\\nikhil thakur\\anaconda3\\envs\\llm-bootcamp\\lib\\site-packages (from snowflake-connector-python<4,>=3.0.4->snowflake-connector-python[pandas]<4,>=3.0.4->snowflake-ml-python==1.0.12) (3.8.1)\n",
      "Requirement already satisfied: tomlkit in c:\\users\\nikhil thakur\\anaconda3\\envs\\llm-bootcamp\\lib\\site-packages (from snowflake-connector-python<4,>=3.0.4->snowflake-connector-python[pandas]<4,>=3.0.4->snowflake-ml-python==1.0.12) (0.11.1)\n",
      "Requirement already satisfied: pyarrow<10.1.0,>=10.0.1 in c:\\users\\nikhil thakur\\anaconda3\\envs\\llm-bootcamp\\lib\\site-packages (from snowflake-connector-python[pandas]<4,>=3.0.4->snowflake-ml-python==1.0.12) (10.0.1)\n",
      "Requirement already satisfied: setuptools>=40.6.0 in c:\\users\\nikhil thakur\\anaconda3\\envs\\llm-bootcamp\\lib\\site-packages (from snowflake-snowpark-python<2,>=1.5.1->snowflake-ml-python==1.0.12) (68.0.0)\n",
      "Requirement already satisfied: wheel in c:\\users\\nikhil thakur\\anaconda3\\envs\\llm-bootcamp\\lib\\site-packages (from snowflake-snowpark-python<2,>=1.5.1->snowflake-ml-python==1.0.12) (0.41.2)\n",
      "Requirement already satisfied: botocore<1.33.2,>=1.32.4 in c:\\users\\nikhil thakur\\anaconda3\\envs\\llm-bootcamp\\lib\\site-packages (from aiobotocore<3.0.0,>=2.5.4->s3fs<2024,>=2022.11->snowflake-ml-python==1.0.12) (1.33.1)\n",
      "Requirement already satisfied: wrapt<2.0.0,>=1.10.10 in c:\\users\\nikhil thakur\\anaconda3\\envs\\llm-bootcamp\\lib\\site-packages (from aiobotocore<3.0.0,>=2.5.4->s3fs<2024,>=2022.11->snowflake-ml-python==1.0.12) (1.16.0)\n",
      "Requirement already satisfied: aioitertools<1.0.0,>=0.5.1 in c:\\users\\nikhil thakur\\anaconda3\\envs\\llm-bootcamp\\lib\\site-packages (from aiobotocore<3.0.0,>=2.5.4->s3fs<2024,>=2022.11->snowflake-ml-python==1.0.12) (0.11.0)\n",
      "Requirement already satisfied: attrs>=17.3.0 in c:\\users\\nikhil thakur\\anaconda3\\envs\\llm-bootcamp\\lib\\site-packages (from aiohttp!=4.0.0a0,!=4.0.0a1->fsspec[http]<2024,>=2022.11->snowflake-ml-python==1.0.12) (23.1.0)\n",
      "Requirement already satisfied: multidict<7.0,>=4.5 in c:\\users\\nikhil thakur\\anaconda3\\envs\\llm-bootcamp\\lib\\site-packages (from aiohttp!=4.0.0a0,!=4.0.0a1->fsspec[http]<2024,>=2022.11->snowflake-ml-python==1.0.12) (6.0.4)\n",
      "Requirement already satisfied: yarl<2.0,>=1.0 in c:\\users\\nikhil thakur\\anaconda3\\envs\\llm-bootcamp\\lib\\site-packages (from aiohttp!=4.0.0a0,!=4.0.0a1->fsspec[http]<2024,>=2022.11->snowflake-ml-python==1.0.12) (1.9.4)\n",
      "Requirement already satisfied: frozenlist>=1.1.1 in c:\\users\\nikhil thakur\\anaconda3\\envs\\llm-bootcamp\\lib\\site-packages (from aiohttp!=4.0.0a0,!=4.0.0a1->fsspec[http]<2024,>=2022.11->snowflake-ml-python==1.0.12) (1.4.0)\n",
      "Requirement already satisfied: aiosignal>=1.1.2 in c:\\users\\nikhil thakur\\anaconda3\\envs\\llm-bootcamp\\lib\\site-packages (from aiohttp!=4.0.0a0,!=4.0.0a1->fsspec[http]<2024,>=2022.11->snowflake-ml-python==1.0.12) (1.3.1)\n",
      "Requirement already satisfied: async-timeout<5.0,>=4.0 in c:\\users\\nikhil thakur\\anaconda3\\envs\\llm-bootcamp\\lib\\site-packages (from aiohttp!=4.0.0a0,!=4.0.0a1->fsspec[http]<2024,>=2022.11->snowflake-ml-python==1.0.12) (4.0.3)\n",
      "Requirement already satisfied: pycparser in c:\\users\\nikhil thakur\\anaconda3\\envs\\llm-bootcamp\\lib\\site-packages (from cffi<2.0.0,>=1.9->snowflake-connector-python<4,>=3.0.4->snowflake-connector-python[pandas]<4,>=3.0.4->snowflake-ml-python==1.0.12) (2.21)\n",
      "Requirement already satisfied: six>=1.5 in c:\\users\\nikhil thakur\\anaconda3\\envs\\llm-bootcamp\\lib\\site-packages (from python-dateutil>=2.8.1->pandas<2,>=1.0.0->snowflake-ml-python==1.0.12) (1.16.0)\n",
      "Requirement already satisfied: jmespath<2.0.0,>=0.7.1 in c:\\users\\nikhil thakur\\anaconda3\\envs\\llm-bootcamp\\lib\\site-packages (from botocore<1.33.2,>=1.32.4->aiobotocore<3.0.0,>=2.5.4->s3fs<2024,>=2022.11->snowflake-ml-python==1.0.12) (1.0.1)\n",
      "Note: you may need to restart the kernel to use updated packages.\n"
     ]
    }
   ],
   "source": [
    "%pip install snowflake-ml-python==1.0.12"
   ]
  },
  {
   "cell_type": "code",
   "execution_count": 3,
   "metadata": {},
   "outputs": [
    {
     "name": "stdout",
     "output_type": "stream",
     "text": [
      "Requirement already satisfied: transformers==4.34.0 in c:\\users\\nikhil thakur\\anaconda3\\envs\\llm-bootcamp\\lib\\site-packages (4.34.0)\n",
      "Requirement already satisfied: tokenizers in c:\\users\\nikhil thakur\\anaconda3\\envs\\llm-bootcamp\\lib\\site-packages (0.14.1)\n",
      "Requirement already satisfied: filelock in c:\\users\\nikhil thakur\\anaconda3\\envs\\llm-bootcamp\\lib\\site-packages (from transformers==4.34.0) (3.9.0)\n",
      "Requirement already satisfied: huggingface-hub<1.0,>=0.16.4 in c:\\users\\nikhil thakur\\anaconda3\\envs\\llm-bootcamp\\lib\\site-packages (from transformers==4.34.0) (0.17.3)\n",
      "Requirement already satisfied: numpy>=1.17 in c:\\users\\nikhil thakur\\anaconda3\\envs\\llm-bootcamp\\lib\\site-packages (from transformers==4.34.0) (1.26.0)\n",
      "Requirement already satisfied: packaging>=20.0 in c:\\users\\nikhil thakur\\anaconda3\\envs\\llm-bootcamp\\lib\\site-packages (from transformers==4.34.0) (23.1)\n",
      "Requirement already satisfied: pyyaml>=5.1 in c:\\users\\nikhil thakur\\anaconda3\\envs\\llm-bootcamp\\lib\\site-packages (from transformers==4.34.0) (6.0.1)\n",
      "Requirement already satisfied: regex!=2019.12.17 in c:\\users\\nikhil thakur\\anaconda3\\envs\\llm-bootcamp\\lib\\site-packages (from transformers==4.34.0) (2023.10.3)\n",
      "Requirement already satisfied: requests in c:\\users\\nikhil thakur\\anaconda3\\envs\\llm-bootcamp\\lib\\site-packages (from transformers==4.34.0) (2.31.0)\n",
      "Requirement already satisfied: safetensors>=0.3.1 in c:\\users\\nikhil thakur\\anaconda3\\envs\\llm-bootcamp\\lib\\site-packages (from transformers==4.34.0) (0.4.1)\n",
      "Requirement already satisfied: tqdm>=4.27 in c:\\users\\nikhil thakur\\anaconda3\\envs\\llm-bootcamp\\lib\\site-packages (from transformers==4.34.0) (4.66.1)\n",
      "Requirement already satisfied: fsspec in c:\\users\\nikhil thakur\\anaconda3\\envs\\llm-bootcamp\\lib\\site-packages (from huggingface-hub<1.0,>=0.16.4->transformers==4.34.0) (2023.12.1)\n",
      "Requirement already satisfied: typing-extensions>=3.7.4.3 in c:\\users\\nikhil thakur\\anaconda3\\envs\\llm-bootcamp\\lib\\site-packages (from huggingface-hub<1.0,>=0.16.4->transformers==4.34.0) (4.7.1)\n",
      "Requirement already satisfied: colorama in c:\\users\\nikhil thakur\\anaconda3\\envs\\llm-bootcamp\\lib\\site-packages (from tqdm>=4.27->transformers==4.34.0) (0.4.6)\n",
      "Requirement already satisfied: charset-normalizer<4,>=2 in c:\\users\\nikhil thakur\\anaconda3\\envs\\llm-bootcamp\\lib\\site-packages (from requests->transformers==4.34.0) (2.0.4)\n",
      "Requirement already satisfied: idna<4,>=2.5 in c:\\users\\nikhil thakur\\anaconda3\\envs\\llm-bootcamp\\lib\\site-packages (from requests->transformers==4.34.0) (3.4)\n",
      "Requirement already satisfied: urllib3<3,>=1.21.1 in c:\\users\\nikhil thakur\\anaconda3\\envs\\llm-bootcamp\\lib\\site-packages (from requests->transformers==4.34.0) (1.26.18)\n",
      "Requirement already satisfied: certifi>=2017.4.17 in c:\\users\\nikhil thakur\\anaconda3\\envs\\llm-bootcamp\\lib\\site-packages (from requests->transformers==4.34.0) (2023.7.22)\n",
      "Note: you may need to restart the kernel to use updated packages.\n"
     ]
    }
   ],
   "source": [
    "%pip install transformers==4.34.0 tokenizers"
   ]
  },
  {
   "cell_type": "markdown",
   "metadata": {},
   "source": [
    "### Import Libraries"
   ]
  },
  {
   "cell_type": "code",
   "execution_count": 8,
   "metadata": {},
   "outputs": [],
   "source": [
    "from snowflake.snowpark.session import Session\n",
    "from snowflake.ml.model.models import llm\n",
    "from snowflake.ml.registry import model_registry\n",
    "from snowflake.ml.model import deploy_platforms\n",
    "from snowflake.snowpark import VERSION\n",
    "import snowflake.snowpark.functions as F\n",
    "\n",
    "import sys\n",
    "import os\n",
    "import json\n",
    "import pandas as pd\n",
    "pd.set_option('display.max_colwidth', None)"
   ]
  },
  {
   "cell_type": "markdown",
   "metadata": {},
   "source": [
    "### Establish Secure Connection\n",
    "\n",
    "*NOTE: Update [connection.json](connection.json) and set your password, Hugging Face token, and replace '####' with your user number.*"
   ]
  },
  {
   "cell_type": "code",
   "execution_count": 12,
   "metadata": {},
   "outputs": [
    {
     "name": "stdout",
     "output_type": "stream",
     "text": [
      "User                        : INDNIKHILTHAKUR\n",
      "Role                        : \"ACCOUNTADMIN\"\n",
      "Database                    : \"DB_USER001\"\n",
      "Schema                      : \"SCHEMA_LLM\"\n",
      "Warehouse                   : \"WH_XS_USER001\"\n",
      "Snowflake version           : 7.43.0\n",
      "Snowpark for Python version : 1.9.0\n"
     ]
    }
   ],
   "source": [
    "# Create Snowflake Session object\n",
    "connection_parameters = json.load(open('connection.json'))\n",
    "session = Session.builder.configs(connection_parameters).create()\n",
    "session.sql_simplifier_enabled = True\n",
    "\n",
    "snowflake_environment = session.sql('select current_user(), current_version()').collect()\n",
    "snowpark_version = VERSION\n",
    "\n",
    "# Current Environment Details\n",
    "print('User                        : {}'.format(snowflake_environment[0][0]))\n",
    "print('Role                        : {}'.format(session.get_current_role()))\n",
    "print('Database                    : {}'.format(session.get_current_database()))\n",
    "print('Schema                      : {}'.format(session.get_current_schema()))\n",
    "print('Warehouse                   : {}'.format(session.get_current_warehouse()))\n",
    "print('Snowflake version           : {}'.format(snowflake_environment[0][1]))\n",
    "print('Snowpark for Python version : {}.{}.{}'.format(snowpark_version[0],snowpark_version[1],snowpark_version[2]))"
   ]
  },
  {
   "cell_type": "markdown",
   "metadata": {},
   "source": [
    "### Reference Llama 2 from Huggingface"
   ]
  },
  {
   "cell_type": "code",
   "execution_count": 16,
   "metadata": {},
   "outputs": [],
   "source": [
    "options = llm.LLMOptions(\n",
    "    token=connection_parameters['huggingface_token'],\n",
    "    max_batch_size=100,\n",
    ")\n",
    "llama_model = llm.LLM(\n",
    "    model_id_or_path=\"meta-llama/Llama-2-7b-chat-hf\",\n",
    "    options=options\n",
    ")"
   ]
  },
  {
   "cell_type": "markdown",
   "metadata": {},
   "source": [
    "### Register, Log and Deploy Llama 2 into Snowpark Container Services \n",
    "\n",
    "*NOTE: Logging and deploying the same model are one time operations. Once the model is logged and deployed, use ModeReference to get the reference to the model.*"
   ]
  },
  {
   "cell_type": "code",
   "execution_count": 11,
   "metadata": {},
   "outputs": [
    {
     "name": "stderr",
     "output_type": "stream",
     "text": [
      "WARNING:absl:The database DB_USER001 already exists. Skipping creation.\n",
      "WARNING:absl:The schema DB_USER001.SCHEMA_LLM already exists. Skipping creation.\n"
     ]
    },
    {
     "ename": "TypeError",
     "evalue": "(0000) int() argument must be a string, a bytes-like object or a number, not 'NoneType'",
     "output_type": "error",
     "traceback": [
      "\u001b[1;31m---------------------------------------------------------------------------\u001b[0m",
      "\u001b[1;31mSnowflakeMLException\u001b[0m                      Traceback (most recent call last)",
      "\u001b[1;31mSnowflakeMLException\u001b[0m: TypeError(\"(0000) int() argument must be a string, a bytes-like object or a number, not 'NoneType'\")",
      "\nThe above exception was the direct cause of the following exception:\n",
      "\u001b[1;31mTypeError\u001b[0m                                 Traceback (most recent call last)",
      "\u001b[1;32md:\\Coridors\\snowflake\\LLM_BOOTCAMP\\llm-bootcamp-build-2023\\day1\\llm-day1-notebook.ipynb Cell 17\u001b[0m line \u001b[0;36m8\n\u001b[0;32m      <a href='vscode-notebook-cell:/d%3A/Coridors/snowflake/LLM_BOOTCAMP/llm-bootcamp-build-2023/day1/llm-day1-notebook.ipynb#X22sZmlsZQ%3D%3D?line=4'>5</a>\u001b[0m MODEL_REGISTRY_SCHEMA \u001b[39m=\u001b[39m connection_parameters[\u001b[39m'\u001b[39m\u001b[39mschema\u001b[39m\u001b[39m'\u001b[39m]\n\u001b[0;32m      <a href='vscode-notebook-cell:/d%3A/Coridors/snowflake/LLM_BOOTCAMP/llm-bootcamp-build-2023/day1/llm-day1-notebook.ipynb#X22sZmlsZQ%3D%3D?line=5'>6</a>\u001b[0m COMPUTE_POOL \u001b[39m=\u001b[39m connection_parameters[\u001b[39m'\u001b[39m\u001b[39mcompute_pool\u001b[39m\u001b[39m'\u001b[39m]\n\u001b[1;32m----> <a href='vscode-notebook-cell:/d%3A/Coridors/snowflake/LLM_BOOTCAMP/llm-bootcamp-build-2023/day1/llm-day1-notebook.ipynb#X22sZmlsZQ%3D%3D?line=7'>8</a>\u001b[0m registry \u001b[39m=\u001b[39m model_registry\u001b[39m.\u001b[39;49mModelRegistry(\n\u001b[0;32m      <a href='vscode-notebook-cell:/d%3A/Coridors/snowflake/LLM_BOOTCAMP/llm-bootcamp-build-2023/day1/llm-day1-notebook.ipynb#X22sZmlsZQ%3D%3D?line=8'>9</a>\u001b[0m     session\u001b[39m=\u001b[39;49msession, \n\u001b[0;32m     <a href='vscode-notebook-cell:/d%3A/Coridors/snowflake/LLM_BOOTCAMP/llm-bootcamp-build-2023/day1/llm-day1-notebook.ipynb#X22sZmlsZQ%3D%3D?line=9'>10</a>\u001b[0m     database_name\u001b[39m=\u001b[39;49mMODEL_REGISTRY_DB, \n\u001b[0;32m     <a href='vscode-notebook-cell:/d%3A/Coridors/snowflake/LLM_BOOTCAMP/llm-bootcamp-build-2023/day1/llm-day1-notebook.ipynb#X22sZmlsZQ%3D%3D?line=10'>11</a>\u001b[0m     schema_name\u001b[39m=\u001b[39;49mMODEL_REGISTRY_SCHEMA, \n\u001b[0;32m     <a href='vscode-notebook-cell:/d%3A/Coridors/snowflake/LLM_BOOTCAMP/llm-bootcamp-build-2023/day1/llm-day1-notebook.ipynb#X22sZmlsZQ%3D%3D?line=11'>12</a>\u001b[0m     create_if_not_exists\u001b[39m=\u001b[39;49m\u001b[39mTrue\u001b[39;49;00m)\n\u001b[0;32m     <a href='vscode-notebook-cell:/d%3A/Coridors/snowflake/LLM_BOOTCAMP/llm-bootcamp-build-2023/day1/llm-day1-notebook.ipynb#X22sZmlsZQ%3D%3D?line=13'>14</a>\u001b[0m llama_model_ref \u001b[39m=\u001b[39m registry\u001b[39m.\u001b[39mlog_model(\n\u001b[0;32m     <a href='vscode-notebook-cell:/d%3A/Coridors/snowflake/LLM_BOOTCAMP/llm-bootcamp-build-2023/day1/llm-day1-notebook.ipynb#X22sZmlsZQ%3D%3D?line=14'>15</a>\u001b[0m     model_name\u001b[39m=\u001b[39mMODEL_NAME,\n\u001b[0;32m     <a href='vscode-notebook-cell:/d%3A/Coridors/snowflake/LLM_BOOTCAMP/llm-bootcamp-build-2023/day1/llm-day1-notebook.ipynb#X22sZmlsZQ%3D%3D?line=15'>16</a>\u001b[0m     model_version\u001b[39m=\u001b[39mMODEL_VERSION,\n\u001b[0;32m     <a href='vscode-notebook-cell:/d%3A/Coridors/snowflake/LLM_BOOTCAMP/llm-bootcamp-build-2023/day1/llm-day1-notebook.ipynb#X22sZmlsZQ%3D%3D?line=16'>17</a>\u001b[0m     model\u001b[39m=\u001b[39mllama_model\n\u001b[0;32m     <a href='vscode-notebook-cell:/d%3A/Coridors/snowflake/LLM_BOOTCAMP/llm-bootcamp-build-2023/day1/llm-day1-notebook.ipynb#X22sZmlsZQ%3D%3D?line=17'>18</a>\u001b[0m )\n",
      "File \u001b[1;32mc:\\Users\\Nikhil Thakur\\anaconda3\\envs\\llm-bootcamp\\lib\\site-packages\\snowflake\\ml\\registry\\model_registry.py:308\u001b[0m, in \u001b[0;36mModelRegistry.__init__\u001b[1;34m(self, session, database_name, schema_name, create_if_not_exists)\u001b[0m\n\u001b[0;32m    298\u001b[0m \u001b[39m\u001b[39m\u001b[39m\"\"\"\u001b[39;00m\n\u001b[0;32m    299\u001b[0m \u001b[39mOpens an already-created registry.\u001b[39;00m\n\u001b[0;32m    300\u001b[0m \n\u001b[1;32m   (...)\u001b[0m\n\u001b[0;32m    305\u001b[0m \u001b[39m    create_if_not_exists: create model registry if it's not exists already.\u001b[39;00m\n\u001b[0;32m    306\u001b[0m \u001b[39m\"\"\"\u001b[39;00m\n\u001b[0;32m    307\u001b[0m \u001b[39mif\u001b[39;00m create_if_not_exists:\n\u001b[1;32m--> 308\u001b[0m     create_model_registry(session\u001b[39m=\u001b[39;49msession, database_name\u001b[39m=\u001b[39;49mdatabase_name, schema_name\u001b[39m=\u001b[39;49mschema_name)\n\u001b[0;32m    310\u001b[0m \u001b[39mself\u001b[39m\u001b[39m.\u001b[39m_name \u001b[39m=\u001b[39m identifier\u001b[39m.\u001b[39mget_inferred_name(database_name)\n\u001b[0;32m    311\u001b[0m \u001b[39mself\u001b[39m\u001b[39m.\u001b[39m_schema \u001b[39m=\u001b[39m identifier\u001b[39m.\u001b[39mget_inferred_name(schema_name)\n",
      "File \u001b[1;32mc:\\Users\\Nikhil Thakur\\anaconda3\\envs\\llm-bootcamp\\lib\\site-packages\\snowflake\\ml\\_internal\\telemetry.py:330\u001b[0m, in \u001b[0;36msend_api_usage_telemetry.<locals>.decorator.<locals>.wrap\u001b[1;34m(*args, **kwargs)\u001b[0m\n\u001b[0;32m    328\u001b[0m         \u001b[39mraise\u001b[39;00m e\u001b[39m.\u001b[39moriginal_exception \u001b[39mfrom\u001b[39;00m \u001b[39mNone\u001b[39;00m\n\u001b[0;32m    329\u001b[0m     \u001b[39melse\u001b[39;00m:\n\u001b[1;32m--> 330\u001b[0m         \u001b[39mraise\u001b[39;00m e\u001b[39m.\u001b[39moriginal_exception \u001b[39mfrom\u001b[39;00m \u001b[39me\u001b[39;00m\n\u001b[0;32m    331\u001b[0m \u001b[39melse\u001b[39;00m:\n\u001b[0;32m    332\u001b[0m     \u001b[39mreturn\u001b[39;00m res\n",
      "\u001b[1;31mTypeError\u001b[0m: (0000) int() argument must be a string, a bytes-like object or a number, not 'NoneType'"
     ]
    }
   ],
   "source": [
    "MODEL_NAME    = \"LLAMA2_7b_CHAT\"\n",
    "MODEL_VERSION = \"NewBaseV2.0\"\n",
    "# MODEL_VERSION = \"V1.1\"\n",
    "MODEL_REGISTRY_DB = connection_parameters['database']\n",
    "MODEL_REGISTRY_SCHEMA = connection_parameters['schema']\n",
    "COMPUTE_POOL = connection_parameters['compute_pool']\n",
    "\n",
    "print(MODEL_REGISTRY_DB)\n",
    "registry = model_registry.ModelRegistry(\n",
    "    session=session, \n",
    "    database_name=MODEL_REGISTRY_DB, \n",
    "    schema_name=MODEL_REGISTRY_SCHEMA, \n",
    "    create_if_not_exists=True)\n",
    "\n",
    "llama_model_ref = registry.log_model(\n",
    "    model_name=MODEL_NAME,\n",
    "    model_version=MODEL_VERSION,\n",
    "    model=llama_model\n",
    ")"
   ]
  },
  {
   "cell_type": "markdown",
   "metadata": {},
   "source": [
    "*Note: Deploying model for the first time can take ~25-30mins*"
   ]
  },
  {
   "cell_type": "code",
   "execution_count": null,
   "metadata": {},
   "outputs": [],
   "source": [
    "%%time\n",
    "# Optionally enable INFO log level\n",
    "import logging\n",
    "logging.basicConfig()\n",
    "logging.getLogger().setLevel(logging.INFO)\n",
    "\n",
    "llama_model_ref.deploy(\n",
    "    deployment_name=\"llama_predict\", \n",
    "    platform=deploy_platforms.TargetPlatform.SNOWPARK_CONTAINER_SERVICES,\n",
    "    permanent=True, \n",
    "    options={\"compute_pool\": COMPUTE_POOL, \"num_gpus\": 1})\n",
    "\n",
    "llama_model_ref = model_registry.ModelReference(registry=registry,model_name=MODEL_NAME,model_version=MODEL_VERSION)\n",
    "llama_model_ref"
   ]
  },
  {
   "cell_type": "markdown",
   "metadata": {},
   "source": [
    "### Load Data from JSON into Snowflake\n",
    "\n",
    "*NOTE: Reading data in JSON and storing it in a Snowflake table are one time operations. Once the data is loaded, use Snowpark to load the data from the existing table.*"
   ]
  },
  {
   "cell_type": "code",
   "execution_count": null,
   "metadata": {},
   "outputs": [],
   "source": [
    "df = pd.read_json(\"data/frosty_transcripts.json\",lines=True)\n",
    "sf_df = session.write_pandas(df,'frosty_transcripts',auto_create_table=True,quote_identifiers=False,overwrite=True)\n",
    "sf_df.to_pandas().head()"
   ]
  },
  {
   "cell_type": "markdown",
   "metadata": {},
   "source": [
    "### Simple Prompt Engineering Example\n",
    "\n",
    "For every transcript, define summarization instruction for the LLM"
   ]
  },
  {
   "cell_type": "code",
   "execution_count": null,
   "metadata": {},
   "outputs": [],
   "source": [
    "begin_prompt = \\\n",
    "\"\"\"\n",
    "[INST] Summarize this transcript in less than 200 words: \n",
    "\"\"\"\n",
    "end_prompt = \" [/INST]\"\n",
    "\n",
    "df_inputs = sf_df.with_column('\"input\"',F.concat_ws(F.lit(\" \"),F.lit(begin_prompt),F.col('transcript'),F.lit(end_prompt))).select('\"input\"')\n",
    "df_inputs.to_pandas().head()"
   ]
  },
  {
   "cell_type": "markdown",
   "metadata": {},
   "source": [
    "### Inference using Simple Prompt\n",
    "\n",
    "Pass the summariation instruction to the LLM and examine results of 10 records"
   ]
  },
  {
   "cell_type": "code",
   "execution_count": null,
   "metadata": {},
   "outputs": [],
   "source": [
    "df_predict_results = llama_model_ref.predict(deployment_name=\"llama_predict\",data=df_inputs)\n",
    "df_predict_results.select('\"input\"','\"generated_text\"').limit(5).to_pandas()"
   ]
  },
  {
   "cell_type": "markdown",
   "metadata": {},
   "source": [
    "### Complex Prompt Engineering and Inference Example\n",
    "\n",
    "For every transcript, define more specific instruction for the LLM\n",
    "\n",
    "*NOTE: In the results, notice that the output is not consistent across all transcripts. The base model failed to follow the instructions in many of the cases as seen below.*"
   ]
  },
  {
   "cell_type": "code",
   "execution_count": null,
   "metadata": {},
   "outputs": [],
   "source": [
    "sf_df = session.table('frosty_transcripts')\n",
    "\n",
    "begin_prompt = \\\n",
    "\"\"\"\n",
    "[INST] Extract location and list of toys in JSON format: \n",
    "\"\"\"\n",
    "end_prompt = \" [/INST]\"\n",
    "\n",
    "df_inputs = sf_df.with_column('\"input\"',F.concat_ws(F.lit(\" \"),F.lit(begin_prompt),F.col('transcript'),F.lit(end_prompt))).select('\"input\"')\n",
    "df_predict_results = llama_model_ref.predict(deployment_name=\"llama_predict\",data=df_inputs)\n",
    "df_predict_results.limit(10).to_pandas()"
   ]
  },
  {
   "cell_type": "markdown",
   "metadata": {},
   "source": [
    "# BUILD LLM Bootcamp Day 2 Preparation\n",
    "\n",
    "Follow the instructions below to prepare your environment for BUILD LLM Bootcamp Day 2. \n",
    "\n",
    "*NOTE:* These operations can take about ~45-60mins depending on your wireless connection.\n",
    "\n",
    "1) Open terminal window and browse to the folder where you have cloned the repository\n",
    "\n",
    "2) Change folder to *day2*\n",
    "\n",
    "3) Run command *`docker build --platform linux/amd64 -t llm-bootcamp .`*\n",
    "\n",
    "4) Once that image is built locally, run the following commands to push the image to Snowflake Registry\n",
    "\n",
    "***Note:*** If your account name contains an underscore (_), you will need to replace it with a dash (-) for each of the below commands. Otherwise, you will encounter an error similar to `Get \"https:/v2/\": http: no Host in request URL`\n",
    "\n",
    "1) Replace ***your-account-name*** with your account name and ***your-db-name*** with the name of your database ***in lowercase*** and then run the following command\n",
    "\n",
    "    `docker tag llm-bootcamp:latest sfsenorthamerica-your-account-name.registry.snowflakecomputing.com/your-db-name/schema_llm/image_repo/llm-bootcamp:latest`\n",
    "\n",
    "2) Replace ***your-account-name*** with your account name and run the following command to login using your LLM Bootcamp Snowflake account username and password\n",
    "\n",
    "    `docker login sfsenorthamerica-your-account-name.registry.snowflakecomputing.com`\n",
    "    \n",
    "3) Replace ***your-account-name*** with your account name and ***your-db-name*** with the name of your database ***in lowercase*** and then run the following command\n",
    "\n",
    "    `docker push sfsenorthamerica-your-account-name.registry.snowflakecomputing.com/your-db-name/schema_llm/image_repo/llm-bootcamp:latest`\n",
    "\n"
   ]
  },
  {
   "cell_type": "markdown",
   "metadata": {},
   "source": []
  }
 ],
 "metadata": {
  "kernelspec": {
   "display_name": "llm-bootcamp",
   "language": "python",
   "name": "python3"
  },
  "language_info": {
   "codemirror_mode": {
    "name": "ipython",
    "version": 3
   },
   "file_extension": ".py",
   "mimetype": "text/x-python",
   "name": "python",
   "nbconvert_exporter": "python",
   "pygments_lexer": "ipython3",
   "version": "3.9.18"
  }
 },
 "nbformat": 4,
 "nbformat_minor": 2
}
