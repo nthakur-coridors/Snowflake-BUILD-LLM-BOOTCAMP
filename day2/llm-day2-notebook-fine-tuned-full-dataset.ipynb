{
 "cells": [
  {
   "cell_type": "markdown",
   "id": "41b1710c-d5d9-4dcc-954e-2938ad1f32cf",
   "metadata": {},
   "source": [
    "# BUILD LLM Bootcamp Day 2\n",
    "\n",
    "### Install Libraries"
   ]
  },
  {
   "cell_type": "code",
   "execution_count": 1,
   "id": "79d98b44",
   "metadata": {
    "tags": []
   },
   "outputs": [
    {
     "name": "stdout",
     "output_type": "stream",
     "text": [
      "Collecting snowflake-ml-python\n",
      "  Downloading snowflake_ml_python-1.0.12-py3-none-any.whl (1.7 MB)\n",
      "\u001b[2K     \u001b[90m━━━━━━━━━━━━━━━━━━━━━━━━━━━━━━━━━━━━━━━━\u001b[0m \u001b[32m1.7/1.7 MB\u001b[0m \u001b[31m27.3 MB/s\u001b[0m eta \u001b[36m0:00:00\u001b[0m \u001b[36m0:00:01\u001b[0m\n",
      "\u001b[?25hCollecting cachetools<5,>=3.1.1\n",
      "  Downloading cachetools-4.2.4-py3-none-any.whl (10 kB)\n",
      "Requirement already satisfied: s3fs<2024,>=2022.11 in /opt/conda/envs/rapids/lib/python3.8/site-packages (from snowflake-ml-python) (2023.4.0)\n",
      "Requirement already satisfied: scikit-learn<1.4,>=1.2.1 in /opt/conda/envs/rapids/lib/python3.8/site-packages (from snowflake-ml-python) (1.2.2)\n",
      "Requirement already satisfied: numpy<2,>=1.23 in /opt/conda/envs/rapids/lib/python3.8/site-packages (from snowflake-ml-python) (1.23.5)\n",
      "Requirement already satisfied: pandas<2,>=1.0.0 in /opt/conda/envs/rapids/lib/python3.8/site-packages (from snowflake-ml-python) (1.5.3)\n",
      "Collecting absl-py<2,>=0.15\n",
      "  Downloading absl_py-1.4.0-py3-none-any.whl (126 kB)\n",
      "\u001b[2K     \u001b[90m━━━━━━━━━━━━━━━━━━━━━━━━━━━━━━━━━━━━━━\u001b[0m \u001b[32m126.5/126.5 kB\u001b[0m \u001b[31m75.0 MB/s\u001b[0m eta \u001b[36m0:00:00\u001b[0m\n",
      "\u001b[?25hRequirement already satisfied: packaging<24,>=20.9 in /opt/conda/envs/rapids/lib/python3.8/site-packages (from snowflake-ml-python) (23.1)\n",
      "Requirement already satisfied: snowflake-connector-python[pandas]<4,>=3.0.4 in /opt/conda/envs/rapids/lib/python3.8/site-packages (from snowflake-ml-python) (3.2.0)\n",
      "Requirement already satisfied: typing-extensions<5,>=4.1.0 in /opt/conda/envs/rapids/lib/python3.8/site-packages (from snowflake-ml-python) (4.5.0)\n",
      "Collecting xgboost<2,>=1.7.3\n",
      "  Downloading xgboost-1.7.6-py3-none-manylinux2014_x86_64.whl (200.3 MB)\n",
      "\u001b[2K     \u001b[90m━━━━━━━━━━━━━━━━━━━━━━━━━━━━━━━━━━━━━━\u001b[0m \u001b[32m200.3/200.3 MB\u001b[0m \u001b[31m26.2 MB/s\u001b[0m eta \u001b[36m0:00:00\u001b[0m00:01\u001b[0m00:01\u001b[0m\n",
      "\u001b[?25hRequirement already satisfied: pyyaml<7,>=6.0 in /opt/conda/envs/rapids/lib/python3.8/site-packages (from snowflake-ml-python) (6.0)\n",
      "Requirement already satisfied: scipy<2,>=1.9 in /opt/conda/envs/rapids/lib/python3.8/site-packages (from snowflake-ml-python) (1.9.1)\n",
      "Requirement already satisfied: snowflake-snowpark-python<2,>=1.5.1 in /opt/conda/envs/rapids/lib/python3.8/site-packages (from snowflake-ml-python) (1.9.0)\n",
      "Requirement already satisfied: importlib_resources<6,>=5.1.4 in /opt/conda/envs/rapids/lib/python3.8/site-packages (from snowflake-ml-python) (5.12.0)\n",
      "Requirement already satisfied: cloudpickle>=2.0.0 in /opt/conda/envs/rapids/lib/python3.8/site-packages (from snowflake-ml-python) (2.0.0)\n",
      "Collecting sqlparse<1,>=0.4\n",
      "  Downloading sqlparse-0.4.4-py3-none-any.whl (41 kB)\n",
      "\u001b[2K     \u001b[90m━━━━━━━━━━━━━━━━━━━━━━━━━━━━━━━━━━━━━━━━\u001b[0m \u001b[32m41.2/41.2 kB\u001b[0m \u001b[31m26.6 MB/s\u001b[0m eta \u001b[36m0:00:00\u001b[0m\n",
      "\u001b[?25hRequirement already satisfied: anyio<4,>=3.5.0 in /opt/conda/envs/rapids/lib/python3.8/site-packages (from snowflake-ml-python) (3.6.2)\n",
      "Requirement already satisfied: fsspec[http]<2024,>=2022.11 in /opt/conda/envs/rapids/lib/python3.8/site-packages (from snowflake-ml-python) (2023.4.0)\n",
      "Collecting pytimeparse<2,>=1.1.8\n",
      "  Downloading pytimeparse-1.1.8-py2.py3-none-any.whl (10.0 kB)\n",
      "Requirement already satisfied: idna>=2.8 in /opt/conda/envs/rapids/lib/python3.8/site-packages (from anyio<4,>=3.5.0->snowflake-ml-python) (3.4)\n",
      "Requirement already satisfied: sniffio>=1.1 in /opt/conda/envs/rapids/lib/python3.8/site-packages (from anyio<4,>=3.5.0->snowflake-ml-python) (1.3.0)\n",
      "Requirement already satisfied: aiohttp!=4.0.0a0,!=4.0.0a1 in /opt/conda/envs/rapids/lib/python3.8/site-packages (from fsspec[http]<2024,>=2022.11->snowflake-ml-python) (3.8.4)\n",
      "Requirement already satisfied: requests in /opt/conda/envs/rapids/lib/python3.8/site-packages (from fsspec[http]<2024,>=2022.11->snowflake-ml-python) (2.28.2)\n",
      "Requirement already satisfied: zipp>=3.1.0 in /opt/conda/envs/rapids/lib/python3.8/site-packages (from importlib_resources<6,>=5.1.4->snowflake-ml-python) (3.15.0)\n",
      "Requirement already satisfied: python-dateutil>=2.8.1 in /opt/conda/envs/rapids/lib/python3.8/site-packages (from pandas<2,>=1.0.0->snowflake-ml-python) (2.8.2)\n",
      "Requirement already satisfied: pytz>=2020.1 in /opt/conda/envs/rapids/lib/python3.8/site-packages (from pandas<2,>=1.0.0->snowflake-ml-python) (2023.3)\n",
      "Requirement already satisfied: aiobotocore~=2.5.0 in /opt/conda/envs/rapids/lib/python3.8/site-packages (from s3fs<2024,>=2022.11->snowflake-ml-python) (2.5.0)\n",
      "Requirement already satisfied: joblib>=1.1.1 in /opt/conda/envs/rapids/lib/python3.8/site-packages (from scikit-learn<1.4,>=1.2.1->snowflake-ml-python) (1.2.0)\n",
      "Requirement already satisfied: threadpoolctl>=2.0.0 in /opt/conda/envs/rapids/lib/python3.8/site-packages (from scikit-learn<1.4,>=1.2.1->snowflake-ml-python) (3.1.0)\n",
      "Requirement already satisfied: cryptography<42.0.0,>=3.1.0 in /opt/conda/envs/rapids/lib/python3.8/site-packages (from snowflake-connector-python[pandas]<4,>=3.0.4->snowflake-ml-python) (40.0.1)\n",
      "Requirement already satisfied: platformdirs<3.9.0,>=2.6.0 in /opt/conda/envs/rapids/lib/python3.8/site-packages (from snowflake-connector-python[pandas]<4,>=3.0.4->snowflake-ml-python) (3.2.0)\n",
      "Requirement already satisfied: cffi<2.0.0,>=1.9 in /opt/conda/envs/rapids/lib/python3.8/site-packages (from snowflake-connector-python[pandas]<4,>=3.0.4->snowflake-ml-python) (1.15.1)\n",
      "Requirement already satisfied: pycryptodomex!=3.5.0,<4.0.0,>=3.2 in /opt/conda/envs/rapids/lib/python3.8/site-packages (from snowflake-connector-python[pandas]<4,>=3.0.4->snowflake-ml-python) (3.15.0)\n",
      "Requirement already satisfied: asn1crypto<2.0.0,>0.24.0 in /opt/conda/envs/rapids/lib/python3.8/site-packages (from snowflake-connector-python[pandas]<4,>=3.0.4->snowflake-ml-python) (1.5.1)\n",
      "Requirement already satisfied: tomlkit in /opt/conda/envs/rapids/lib/python3.8/site-packages (from snowflake-connector-python[pandas]<4,>=3.0.4->snowflake-ml-python) (0.11.1)\n",
      "Requirement already satisfied: pyOpenSSL<24.0.0,>=16.2.0 in /opt/conda/envs/rapids/lib/python3.8/site-packages (from snowflake-connector-python[pandas]<4,>=3.0.4->snowflake-ml-python) (23.1.1)\n",
      "Requirement already satisfied: oscrypto<2.0.0 in /opt/conda/envs/rapids/lib/python3.8/site-packages (from snowflake-connector-python[pandas]<4,>=3.0.4->snowflake-ml-python) (1.2.1)\n",
      "Requirement already satisfied: sortedcontainers>=2.4.0 in /opt/conda/envs/rapids/lib/python3.8/site-packages (from snowflake-connector-python[pandas]<4,>=3.0.4->snowflake-ml-python) (2.4.0)\n",
      "Requirement already satisfied: certifi>=2017.4.17 in /opt/conda/envs/rapids/lib/python3.8/site-packages (from snowflake-connector-python[pandas]<4,>=3.0.4->snowflake-ml-python) (2023.7.22)\n",
      "Requirement already satisfied: pyjwt<3.0.0 in /opt/conda/envs/rapids/lib/python3.8/site-packages (from snowflake-connector-python[pandas]<4,>=3.0.4->snowflake-ml-python) (2.4.0)\n",
      "Requirement already satisfied: urllib3<1.27,>=1.21.1 in /opt/conda/envs/rapids/lib/python3.8/site-packages (from snowflake-connector-python[pandas]<4,>=3.0.4->snowflake-ml-python) (1.26.15)\n",
      "Requirement already satisfied: filelock<4,>=3.5 in /opt/conda/envs/rapids/lib/python3.8/site-packages (from snowflake-connector-python[pandas]<4,>=3.0.4->snowflake-ml-python) (3.9.0)\n",
      "Requirement already satisfied: charset-normalizer<4,>=2 in /opt/conda/envs/rapids/lib/python3.8/site-packages (from snowflake-connector-python[pandas]<4,>=3.0.4->snowflake-ml-python) (2.1.1)\n",
      "Requirement already satisfied: pyarrow<10.1.0,>=10.0.1 in /opt/conda/envs/rapids/lib/python3.8/site-packages (from snowflake-connector-python[pandas]<4,>=3.0.4->snowflake-ml-python) (10.0.1)\n",
      "Requirement already satisfied: wheel in /opt/conda/envs/rapids/lib/python3.8/site-packages (from snowflake-snowpark-python<2,>=1.5.1->snowflake-ml-python) (0.40.0)\n",
      "Requirement already satisfied: setuptools>=40.6.0 in /opt/conda/envs/rapids/lib/python3.8/site-packages (from snowflake-snowpark-python<2,>=1.5.1->snowflake-ml-python) (67.6.1)\n",
      "Requirement already satisfied: wrapt>=1.10.10 in /opt/conda/envs/rapids/lib/python3.8/site-packages (from aiobotocore~=2.5.0->s3fs<2024,>=2022.11->snowflake-ml-python) (1.15.0)\n",
      "Requirement already satisfied: aioitertools>=0.5.1 in /opt/conda/envs/rapids/lib/python3.8/site-packages (from aiobotocore~=2.5.0->s3fs<2024,>=2022.11->snowflake-ml-python) (0.11.0)\n",
      "Requirement already satisfied: botocore<1.29.77,>=1.29.76 in /opt/conda/envs/rapids/lib/python3.8/site-packages (from aiobotocore~=2.5.0->s3fs<2024,>=2022.11->snowflake-ml-python) (1.29.76)\n",
      "Requirement already satisfied: attrs>=17.3.0 in /opt/conda/envs/rapids/lib/python3.8/site-packages (from aiohttp!=4.0.0a0,!=4.0.0a1->fsspec[http]<2024,>=2022.11->snowflake-ml-python) (22.2.0)\n",
      "Requirement already satisfied: yarl<2.0,>=1.0 in /opt/conda/envs/rapids/lib/python3.8/site-packages (from aiohttp!=4.0.0a0,!=4.0.0a1->fsspec[http]<2024,>=2022.11->snowflake-ml-python) (1.8.2)\n",
      "Requirement already satisfied: aiosignal>=1.1.2 in /opt/conda/envs/rapids/lib/python3.8/site-packages (from aiohttp!=4.0.0a0,!=4.0.0a1->fsspec[http]<2024,>=2022.11->snowflake-ml-python) (1.3.1)\n",
      "Requirement already satisfied: frozenlist>=1.1.1 in /opt/conda/envs/rapids/lib/python3.8/site-packages (from aiohttp!=4.0.0a0,!=4.0.0a1->fsspec[http]<2024,>=2022.11->snowflake-ml-python) (1.3.3)\n",
      "Requirement already satisfied: multidict<7.0,>=4.5 in /opt/conda/envs/rapids/lib/python3.8/site-packages (from aiohttp!=4.0.0a0,!=4.0.0a1->fsspec[http]<2024,>=2022.11->snowflake-ml-python) (6.0.4)\n",
      "Requirement already satisfied: async-timeout<5.0,>=4.0.0a3 in /opt/conda/envs/rapids/lib/python3.8/site-packages (from aiohttp!=4.0.0a0,!=4.0.0a1->fsspec[http]<2024,>=2022.11->snowflake-ml-python) (4.0.2)\n",
      "Requirement already satisfied: pycparser in /opt/conda/envs/rapids/lib/python3.8/site-packages (from cffi<2.0.0,>=1.9->snowflake-connector-python[pandas]<4,>=3.0.4->snowflake-ml-python) (2.21)\n",
      "Requirement already satisfied: six>=1.5 in /opt/conda/envs/rapids/lib/python3.8/site-packages (from python-dateutil>=2.8.1->pandas<2,>=1.0.0->snowflake-ml-python) (1.16.0)\n",
      "Requirement already satisfied: jmespath<2.0.0,>=0.7.1 in /opt/conda/envs/rapids/lib/python3.8/site-packages (from botocore<1.29.77,>=1.29.76->aiobotocore~=2.5.0->s3fs<2024,>=2022.11->snowflake-ml-python) (1.0.1)\n",
      "Installing collected packages: pytimeparse, sqlparse, cachetools, absl-py, xgboost, snowflake-ml-python\n",
      "  Attempting uninstall: cachetools\n",
      "    Found existing installation: cachetools 5.3.0\n",
      "    Uninstalling cachetools-5.3.0:\n",
      "      Successfully uninstalled cachetools-5.3.0\n",
      "  Attempting uninstall: xgboost\n",
      "    Found existing installation: xgboost 1.7.1\n",
      "    Uninstalling xgboost-1.7.1:\n",
      "      Successfully uninstalled xgboost-1.7.1\n",
      "\u001b[31mERROR: pip's dependency resolver does not currently take into account all the packages that are installed. This behaviour is the source of the following dependency conflicts.\n",
      "cudf 23.4.0 requires cupy-cuda11x<12.0.0a0,>=9.5.0, which is not installed.\u001b[0m\u001b[31m\n",
      "\u001b[0mSuccessfully installed absl-py-1.4.0 cachetools-4.2.4 pytimeparse-1.1.8 snowflake-ml-python-1.0.12 sqlparse-0.4.4 xgboost-1.7.6\n",
      "\u001b[33mWARNING: Running pip as the 'root' user can result in broken permissions and conflicting behaviour with the system package manager. It is recommended to use a virtual environment instead: https://pip.pypa.io/warnings/venv\u001b[0m\u001b[33m\n",
      "\u001b[0m"
     ]
    }
   ],
   "source": [
    "!pip install snowflake-ml-python"
   ]
  },
  {
   "cell_type": "code",
   "execution_count": 2,
   "id": "876bbda5-b330-4d71-a335-ac178274b6ff",
   "metadata": {
    "tags": []
   },
   "outputs": [
    {
     "name": "stdout",
     "output_type": "stream",
     "text": [
      "Collecting peft\n",
      "  Downloading peft-0.6.2-py3-none-any.whl (174 kB)\n",
      "\u001b[2K     \u001b[90m━━━━━━━━━━━━━━━━━━━━━━━━━━━━━━━━━━━━━━━\u001b[0m \u001b[32m174.7/174.7 kB\u001b[0m \u001b[31m6.5 MB/s\u001b[0m eta \u001b[36m0:00:00\u001b[0m\n",
      "\u001b[?25hCollecting transformers==4.34.0\n",
      "  Downloading transformers-4.34.0-py3-none-any.whl (7.7 MB)\n",
      "\u001b[2K     \u001b[90m━━━━━━━━━━━━━━━━━━━━━━━━━━━━━━━━━━━━━━━━\u001b[0m \u001b[32m7.7/7.7 MB\u001b[0m \u001b[31m89.8 MB/s\u001b[0m eta \u001b[36m0:00:00\u001b[0m:00:01\u001b[0m0:01\u001b[0m\n",
      "\u001b[?25hCollecting tokenizers\n",
      "  Downloading tokenizers-0.15.0-cp38-cp38-manylinux_2_17_x86_64.manylinux2014_x86_64.whl (3.8 MB)\n",
      "\u001b[2K     \u001b[90m━━━━━━━━━━━━━━━━━━━━━━━━━━━━━━━━━━━━━━━━\u001b[0m \u001b[32m3.8/3.8 MB\u001b[0m \u001b[31m174.3 MB/s\u001b[0m eta \u001b[36m0:00:00\u001b[0m\n",
      "\u001b[?25hCollecting vllm==0.2.1.post1\n",
      "  Downloading vllm-0.2.1.post1-cp38-cp38-manylinux1_x86_64.whl (28.6 MB)\n",
      "\u001b[2K     \u001b[90m━━━━━━━━━━━━━━━━━━━━━━━━━━━━━━━━━━━━━━━\u001b[0m \u001b[32m28.6/28.6 MB\u001b[0m \u001b[31m109.8 MB/s\u001b[0m eta \u001b[36m0:00:00\u001b[0m00:01\u001b[0m00:01\u001b[0m\n",
      "\u001b[?25hCollecting bitsandbytes\n",
      "  Downloading bitsandbytes-0.41.2.post2-py3-none-any.whl (92.6 MB)\n",
      "\u001b[2K     \u001b[90m━━━━━━━━━━━━━━━━━━━━━━━━━━━━━━━━━━━━━━━━\u001b[0m \u001b[32m92.6/92.6 MB\u001b[0m \u001b[31m48.8 MB/s\u001b[0m eta \u001b[36m0:00:00\u001b[0m00:01\u001b[0m00:01\u001b[0m\n",
      "\u001b[?25hCollecting datasets\n",
      "  Downloading datasets-2.15.0-py3-none-any.whl (521 kB)\n",
      "\u001b[2K     \u001b[90m━━━━━━━━━━━━━━━━━━━━━━━━━━━━━━━━━━━━━\u001b[0m \u001b[32m521.2/521.2 kB\u001b[0m \u001b[31m145.5 MB/s\u001b[0m eta \u001b[36m0:00:00\u001b[0m\n",
      "\u001b[?25hCollecting absl-py==1.3.0\n",
      "  Downloading absl_py-1.3.0-py3-none-any.whl (124 kB)\n",
      "\u001b[2K     \u001b[90m━━━━━━━━━━━━━━━━━━━━━━━━━━━━━━━━━━━━━━\u001b[0m \u001b[32m124.6/124.6 kB\u001b[0m \u001b[31m71.6 MB/s\u001b[0m eta \u001b[36m0:00:00\u001b[0m\n",
      "\u001b[?25hRequirement already satisfied: filelock in /opt/conda/envs/rapids/lib/python3.8/site-packages (from transformers==4.34.0) (3.9.0)\n",
      "Requirement already satisfied: requests in /opt/conda/envs/rapids/lib/python3.8/site-packages (from transformers==4.34.0) (2.28.2)\n",
      "Requirement already satisfied: tqdm>=4.27 in /opt/conda/envs/rapids/lib/python3.8/site-packages (from transformers==4.34.0) (4.65.0)\n",
      "Collecting huggingface-hub<1.0,>=0.16.4\n",
      "  Downloading huggingface_hub-0.19.4-py3-none-any.whl (311 kB)\n",
      "\u001b[2K     \u001b[90m━━━━━━━━━━━━━━━━━━━━━━━━━━━━━━━━━━━━━\u001b[0m \u001b[32m311.7/311.7 kB\u001b[0m \u001b[31m125.8 MB/s\u001b[0m eta \u001b[36m0:00:00\u001b[0m\n",
      "\u001b[?25hCollecting tokenizers\n",
      "  Downloading tokenizers-0.14.1-cp38-cp38-manylinux_2_17_x86_64.manylinux2014_x86_64.whl (3.8 MB)\n",
      "\u001b[2K     \u001b[90m━━━━━━━━━━━━━━━━━━━━━━━━━━━━━━━━━━━━━━━━\u001b[0m \u001b[32m3.8/3.8 MB\u001b[0m \u001b[31m188.1 MB/s\u001b[0m eta \u001b[36m0:00:00\u001b[0m\n",
      "\u001b[?25hRequirement already satisfied: pyyaml>=5.1 in /opt/conda/envs/rapids/lib/python3.8/site-packages (from transformers==4.34.0) (6.0)\n",
      "Collecting regex!=2019.12.17\n",
      "  Downloading regex-2023.10.3-cp38-cp38-manylinux_2_17_x86_64.manylinux2014_x86_64.whl (776 kB)\n",
      "\u001b[2K     \u001b[90m━━━━━━━━━━━━━━━━━━━━━━━━━━━━━━━━━━━━━\u001b[0m \u001b[32m777.0/777.0 kB\u001b[0m \u001b[31m156.2 MB/s\u001b[0m eta \u001b[36m0:00:00\u001b[0m\n",
      "\u001b[?25hRequirement already satisfied: numpy>=1.17 in /opt/conda/envs/rapids/lib/python3.8/site-packages (from transformers==4.34.0) (1.23.5)\n",
      "Requirement already satisfied: packaging>=20.0 in /opt/conda/envs/rapids/lib/python3.8/site-packages (from transformers==4.34.0) (23.1)\n",
      "Collecting safetensors>=0.3.1\n",
      "  Downloading safetensors-0.4.0-cp38-cp38-manylinux_2_17_x86_64.manylinux2014_x86_64.whl (1.3 MB)\n",
      "\u001b[2K     \u001b[90m━━━━━━━━━━━━━━━━━━━━━━━━━━━━━━━━━━━━━━━━\u001b[0m \u001b[32m1.3/1.3 MB\u001b[0m \u001b[31m174.7 MB/s\u001b[0m eta \u001b[36m0:00:00\u001b[0m\n",
      "\u001b[?25hRequirement already satisfied: uvicorn[standard] in /opt/conda/envs/rapids/lib/python3.8/site-packages (from vllm==0.2.1.post1) (0.21.1)\n",
      "Collecting torch==2.0.1\n",
      "  Downloading torch-2.0.1-cp38-cp38-manylinux1_x86_64.whl (619.9 MB)\n",
      "\u001b[2K     \u001b[90m━━━━━━━━━━━━━━━━━━━━━━━━━━━━━━━━━━━━━━━\u001b[0m \u001b[32m619.9/619.9 MB\u001b[0m \u001b[31m3.1 MB/s\u001b[0m eta \u001b[36m0:00:00\u001b[0m00:01\u001b[0m00:01\u001b[0m\n",
      "\u001b[?25hRequirement already satisfied: pandas in /opt/conda/envs/rapids/lib/python3.8/site-packages (from vllm==0.2.1.post1) (1.5.3)\n",
      "Collecting ninja\n",
      "  Downloading ninja-1.11.1.1-py2.py3-none-manylinux1_x86_64.manylinux_2_5_x86_64.whl (307 kB)\n",
      "\u001b[2K     \u001b[90m━━━━━━━━━━━━━━━━━━━━━━━━━━━━━━━━━━━━━\u001b[0m \u001b[32m307.2/307.2 kB\u001b[0m \u001b[31m124.2 MB/s\u001b[0m eta \u001b[36m0:00:00\u001b[0m\n",
      "\u001b[?25hRequirement already satisfied: fastapi in /opt/conda/envs/rapids/lib/python3.8/site-packages (from vllm==0.2.1.post1) (0.86.0)\n",
      "Collecting xformers==0.0.22\n",
      "  Downloading xformers-0.0.22-cp38-cp38-manylinux2014_x86_64.whl (211.6 MB)\n",
      "\u001b[2K     \u001b[90m━━━━━━━━━━━━━━━━━━━━━━━━━━━━━━━━━━━━━━\u001b[0m \u001b[32m211.6/211.6 MB\u001b[0m \u001b[31m16.6 MB/s\u001b[0m eta \u001b[36m0:00:00\u001b[0m00:01\u001b[0m00:01\u001b[0m\n",
      "\u001b[?25hCollecting sentencepiece\n",
      "  Downloading sentencepiece-0.1.99-cp38-cp38-manylinux_2_17_x86_64.manylinux2014_x86_64.whl (1.3 MB)\n",
      "\u001b[2K     \u001b[90m━━━━━━━━━━━━━━━━━━━━━━━━━━━━━━━━━━━━━━━━\u001b[0m \u001b[32m1.3/1.3 MB\u001b[0m \u001b[31m163.0 MB/s\u001b[0m eta \u001b[36m0:00:00\u001b[0m\n",
      "\u001b[?25hRequirement already satisfied: pydantic<2 in /opt/conda/envs/rapids/lib/python3.8/site-packages (from vllm==0.2.1.post1) (1.10.7)\n",
      "Requirement already satisfied: pyarrow in /opt/conda/envs/rapids/lib/python3.8/site-packages (from vllm==0.2.1.post1) (10.0.1)\n",
      "Collecting ray>=2.5.1\n",
      "  Downloading ray-2.8.0-cp38-cp38-manylinux2014_x86_64.whl (62.6 MB)\n",
      "\u001b[2K     \u001b[90m━━━━━━━━━━━━━━━━━━━━━━━━━━━━━━━━━━━━━━━━\u001b[0m \u001b[32m62.6/62.6 MB\u001b[0m \u001b[31m61.6 MB/s\u001b[0m eta \u001b[36m0:00:00\u001b[0m00:01\u001b[0m00:01\u001b[0m\n",
      "\u001b[?25hRequirement already satisfied: psutil in /opt/conda/envs/rapids/lib/python3.8/site-packages (from vllm==0.2.1.post1) (5.9.4)\n",
      "Collecting sympy\n",
      "  Downloading sympy-1.12-py3-none-any.whl (5.7 MB)\n",
      "\u001b[2K     \u001b[90m━━━━━━━━━━━━━━━━━━━━━━━━━━━━━━━━━━━━━━━━\u001b[0m \u001b[32m5.7/5.7 MB\u001b[0m \u001b[31m179.7 MB/s\u001b[0m eta \u001b[36m0:00:00\u001b[0m\n",
      "\u001b[?25hRequirement already satisfied: typing-extensions in /opt/conda/envs/rapids/lib/python3.8/site-packages (from torch==2.0.1->vllm==0.2.1.post1) (4.5.0)\n",
      "Collecting nvidia-cusolver-cu11==11.4.0.1\n",
      "  Downloading nvidia_cusolver_cu11-11.4.0.1-2-py3-none-manylinux1_x86_64.whl (102.6 MB)\n",
      "\u001b[2K     \u001b[90m━━━━━━━━━━━━━━━━━━━━━━━━━━━━━━━━━━━━━━\u001b[0m \u001b[32m102.6/102.6 MB\u001b[0m \u001b[31m46.6 MB/s\u001b[0m eta \u001b[36m0:00:00\u001b[0m00:01\u001b[0m00:01\u001b[0m\n",
      "\u001b[?25hCollecting triton==2.0.0\n",
      "  Downloading triton-2.0.0-1-cp38-cp38-manylinux2014_x86_64.manylinux_2_17_x86_64.whl (63.2 MB)\n",
      "\u001b[2K     \u001b[90m━━━━━━━━━━━━━━━━━━━━━━━━━━━━━━━━━━━━━━━━\u001b[0m \u001b[32m63.2/63.2 MB\u001b[0m \u001b[31m63.9 MB/s\u001b[0m eta \u001b[36m0:00:00\u001b[0m00:01\u001b[0m00:01\u001b[0m\n",
      "\u001b[?25hCollecting nvidia-nccl-cu11==2.14.3\n",
      "  Downloading nvidia_nccl_cu11-2.14.3-py3-none-manylinux1_x86_64.whl (177.1 MB)\n",
      "\u001b[2K     \u001b[90m━━━━━━━━━━━━━━━━━━━━━━━━━━━━━━━━━━━━━━\u001b[0m \u001b[32m177.1/177.1 MB\u001b[0m \u001b[31m29.1 MB/s\u001b[0m eta \u001b[36m0:00:00\u001b[0m00:01\u001b[0m00:01\u001b[0m\n",
      "\u001b[?25hCollecting nvidia-cufft-cu11==10.9.0.58\n",
      "  Downloading nvidia_cufft_cu11-10.9.0.58-py3-none-manylinux1_x86_64.whl (168.4 MB)\n",
      "\u001b[2K     \u001b[90m━━━━━━━━━━━━━━━━━━━━━━━━━━━━━━━━━━━━━━\u001b[0m \u001b[32m168.4/168.4 MB\u001b[0m \u001b[31m31.1 MB/s\u001b[0m eta \u001b[36m0:00:00\u001b[0m00:01\u001b[0m00:01\u001b[0m\n",
      "\u001b[?25hCollecting nvidia-nvtx-cu11==11.7.91\n",
      "  Downloading nvidia_nvtx_cu11-11.7.91-py3-none-manylinux1_x86_64.whl (98 kB)\n",
      "\u001b[2K     \u001b[90m━━━━━━━━━━━━━━━━━━━━━━━━━━━━━━━━━━━━━━━━\u001b[0m \u001b[32m98.6/98.6 kB\u001b[0m \u001b[31m56.2 MB/s\u001b[0m eta \u001b[36m0:00:00\u001b[0m\n",
      "\u001b[?25hRequirement already satisfied: networkx in /opt/conda/envs/rapids/lib/python3.8/site-packages (from torch==2.0.1->vllm==0.2.1.post1) (3.1)\n",
      "Requirement already satisfied: jinja2 in /opt/conda/envs/rapids/lib/python3.8/site-packages (from torch==2.0.1->vllm==0.2.1.post1) (3.1.2)\n",
      "Collecting nvidia-cuda-runtime-cu11==11.7.99\n",
      "  Downloading nvidia_cuda_runtime_cu11-11.7.99-py3-none-manylinux1_x86_64.whl (849 kB)\n",
      "\u001b[2K     \u001b[90m━━━━━━━━━━━━━━━━━━━━━━━━━━━━━━━━━━━━━\u001b[0m \u001b[32m849.3/849.3 kB\u001b[0m \u001b[31m159.9 MB/s\u001b[0m eta \u001b[36m0:00:00\u001b[0m\n",
      "\u001b[?25hCollecting nvidia-cudnn-cu11==8.5.0.96\n",
      "  Downloading nvidia_cudnn_cu11-8.5.0.96-2-py3-none-manylinux1_x86_64.whl (557.1 MB)\n",
      "\u001b[2K     \u001b[90m━━━━━━━━━━━━━━━━━━━━━━━━━━━━━━━━━━━━━━━\u001b[0m \u001b[32m557.1/557.1 MB\u001b[0m \u001b[31m2.2 MB/s\u001b[0m eta \u001b[36m0:00:00\u001b[0m00:01\u001b[0m00:01\u001b[0m\n",
      "\u001b[?25hCollecting nvidia-cuda-nvrtc-cu11==11.7.99\n",
      "  Downloading nvidia_cuda_nvrtc_cu11-11.7.99-2-py3-none-manylinux1_x86_64.whl (21.0 MB)\n",
      "\u001b[2K     \u001b[90m━━━━━━━━━━━━━━━━━━━━━━━━━━━━━━━━━━━━━━━\u001b[0m \u001b[32m21.0/21.0 MB\u001b[0m \u001b[31m123.7 MB/s\u001b[0m eta \u001b[36m0:00:00\u001b[0m00:01\u001b[0m00:01\u001b[0m\n",
      "\u001b[?25hCollecting nvidia-curand-cu11==10.2.10.91\n",
      "  Downloading nvidia_curand_cu11-10.2.10.91-py3-none-manylinux1_x86_64.whl (54.6 MB)\n",
      "\u001b[2K     \u001b[90m━━━━━━━━━━━━━━━━━━━━━━━━━━━━━━━━━━━━━━━━\u001b[0m \u001b[32m54.6/54.6 MB\u001b[0m \u001b[31m71.2 MB/s\u001b[0m eta \u001b[36m0:00:00\u001b[0m00:01\u001b[0m00:01\u001b[0m\n",
      "\u001b[?25hCollecting nvidia-cuda-cupti-cu11==11.7.101\n",
      "  Downloading nvidia_cuda_cupti_cu11-11.7.101-py3-none-manylinux1_x86_64.whl (11.8 MB)\n",
      "\u001b[2K     \u001b[90m━━━━━━━━━━━━━━━━━━━━━━━━━━━━━━━━━━━━━━━\u001b[0m \u001b[32m11.8/11.8 MB\u001b[0m \u001b[31m160.3 MB/s\u001b[0m eta \u001b[36m0:00:00\u001b[0m00:01\u001b[0m00:01\u001b[0m\n",
      "\u001b[?25hCollecting nvidia-cublas-cu11==11.10.3.66\n",
      "  Downloading nvidia_cublas_cu11-11.10.3.66-py3-none-manylinux1_x86_64.whl (317.1 MB)\n",
      "\u001b[2K     \u001b[90m━━━━━━━━━━━━━━━━━━━━━━━━━━━━━━━━━━━━━━━\u001b[0m \u001b[32m317.1/317.1 MB\u001b[0m \u001b[31m5.3 MB/s\u001b[0m eta \u001b[36m0:00:00\u001b[0m00:01\u001b[0m00:01\u001b[0m\n",
      "\u001b[?25hCollecting nvidia-cusparse-cu11==11.7.4.91\n",
      "  Downloading nvidia_cusparse_cu11-11.7.4.91-py3-none-manylinux1_x86_64.whl (173.2 MB)\n",
      "\u001b[2K     \u001b[90m━━━━━━━━━━━━━━━━━━━━━━━━━━━━━━━━━━━━━━━\u001b[0m \u001b[32m173.2/173.2 MB\u001b[0m \u001b[31m6.4 MB/s\u001b[0m eta \u001b[36m0:00:00\u001b[0m00:01\u001b[0m00:01\u001b[0m\n",
      "\u001b[?25hRequirement already satisfied: setuptools in /opt/conda/envs/rapids/lib/python3.8/site-packages (from nvidia-cublas-cu11==11.10.3.66->torch==2.0.1->vllm==0.2.1.post1) (67.6.1)\n",
      "Requirement already satisfied: wheel in /opt/conda/envs/rapids/lib/python3.8/site-packages (from nvidia-cublas-cu11==11.10.3.66->torch==2.0.1->vllm==0.2.1.post1) (0.40.0)\n",
      "Collecting lit\n",
      "  Downloading lit-17.0.5.tar.gz (153 kB)\n",
      "\u001b[2K     \u001b[90m━━━━━━━━━━━━━━━━━━━━━━━━━━━━━━━━━━━━━━━\u001b[0m \u001b[32m153.0/153.0 kB\u001b[0m \u001b[31m3.4 MB/s\u001b[0m eta \u001b[36m0:00:00\u001b[0ma \u001b[36m0:00:01\u001b[0m\n",
      "\u001b[?25h  Installing build dependencies ... \u001b[?25ldone\n",
      "\u001b[?25h  Getting requirements to build wheel ... \u001b[?25ldone\n",
      "\u001b[?25h  Installing backend dependencies ... \u001b[?25ldone\n",
      "\u001b[?25h  Preparing metadata (pyproject.toml) ... \u001b[?25ldone\n",
      "\u001b[?25hCollecting cmake\n",
      "  Downloading cmake-3.27.7-py2.py3-none-manylinux2014_x86_64.manylinux_2_17_x86_64.whl (26.0 MB)\n",
      "\u001b[2K     \u001b[90m━━━━━━━━━━━━━━━━━━━━━━━━━━━━━━━━━━━━━━━━\u001b[0m \u001b[32m26.0/26.0 MB\u001b[0m \u001b[31m29.9 MB/s\u001b[0m eta \u001b[36m0:00:00\u001b[0m00:01\u001b[0m00:01\u001b[0m\n",
      "\u001b[?25hCollecting accelerate>=0.21.0\n",
      "  Downloading accelerate-0.24.1-py3-none-any.whl (261 kB)\n",
      "\u001b[2K     \u001b[90m━━━━━━━━━━━━━━━━━━━━━━━━━━━━━━━━━━━━━━━\u001b[0m \u001b[32m261.4/261.4 kB\u001b[0m \u001b[31m5.8 MB/s\u001b[0m eta \u001b[36m0:00:00\u001b[0m00:01\u001b[0m\n",
      "\u001b[?25hCollecting huggingface-hub<1.0,>=0.16.4\n",
      "  Downloading huggingface_hub-0.17.3-py3-none-any.whl (295 kB)\n",
      "\u001b[2K     \u001b[90m━━━━━━━━━━━━━━━━━━━━━━━━━━━━━━━━━━━━━━━\u001b[0m \u001b[32m295.0/295.0 kB\u001b[0m \u001b[31m6.4 MB/s\u001b[0m eta \u001b[36m0:00:00\u001b[0ma \u001b[36m0:00:01\u001b[0m\n",
      "\u001b[?25hRequirement already satisfied: aiohttp in /opt/conda/envs/rapids/lib/python3.8/site-packages (from datasets) (3.8.4)\n",
      "Requirement already satisfied: fsspec[http]<=2023.10.0,>=2023.1.0 in /opt/conda/envs/rapids/lib/python3.8/site-packages (from datasets) (2023.4.0)\n",
      "Collecting dill<0.3.8,>=0.3.0\n",
      "  Downloading dill-0.3.7-py3-none-any.whl (115 kB)\n",
      "\u001b[2K     \u001b[90m━━━━━━━━━━━━━━━━━━━━━━━━━━━━━━━━━━━━━━━\u001b[0m \u001b[32m115.3/115.3 kB\u001b[0m \u001b[31m2.5 MB/s\u001b[0m eta \u001b[36m0:00:00\u001b[0m00:01\u001b[0m\n",
      "\u001b[?25hCollecting xxhash\n",
      "  Downloading xxhash-3.4.1-cp38-cp38-manylinux_2_17_x86_64.manylinux2014_x86_64.whl (194 kB)\n",
      "\u001b[2K     \u001b[90m━━━━━━━━━━━━━━━━━━━━━━━━━━━━━━━━━━━━━━━\u001b[0m \u001b[32m194.6/194.6 kB\u001b[0m \u001b[31m4.4 MB/s\u001b[0m eta \u001b[36m0:00:00\u001b[0m00:01\u001b[0m\n",
      "\u001b[?25hCollecting datasets\n",
      "  Downloading datasets-2.14.7-py3-none-any.whl (520 kB)\n",
      "\u001b[2K     \u001b[90m━━━━━━━━━━━━━━━━━━━━━━━━━━━━━━━━━━━━━━\u001b[0m \u001b[32m520.4/520.4 kB\u001b[0m \u001b[31m11.2 MB/s\u001b[0m eta \u001b[36m0:00:00\u001b[0m00:01\u001b[0m\n",
      "\u001b[?25hCollecting multiprocess\n",
      "  Downloading multiprocess-0.70.15-py38-none-any.whl (132 kB)\n",
      "\u001b[2K     \u001b[90m━━━━━━━━━━━━━━━━━━━━━━━━━━━━━━━━━━━━━━━\u001b[0m \u001b[32m132.6/132.6 kB\u001b[0m \u001b[31m2.9 MB/s\u001b[0m eta \u001b[36m0:00:00\u001b[0ma \u001b[36m0:00:01\u001b[0m\n",
      "\u001b[?25hCollecting pyarrow-hotfix\n",
      "  Downloading pyarrow_hotfix-0.5-py3-none-any.whl (7.8 kB)\n",
      "Requirement already satisfied: attrs>=17.3.0 in /opt/conda/envs/rapids/lib/python3.8/site-packages (from aiohttp->datasets) (22.2.0)\n",
      "Requirement already satisfied: frozenlist>=1.1.1 in /opt/conda/envs/rapids/lib/python3.8/site-packages (from aiohttp->datasets) (1.3.3)\n",
      "Requirement already satisfied: multidict<7.0,>=4.5 in /opt/conda/envs/rapids/lib/python3.8/site-packages (from aiohttp->datasets) (6.0.4)\n",
      "Requirement already satisfied: charset-normalizer<4.0,>=2.0 in /opt/conda/envs/rapids/lib/python3.8/site-packages (from aiohttp->datasets) (2.1.1)\n",
      "Requirement already satisfied: yarl<2.0,>=1.0 in /opt/conda/envs/rapids/lib/python3.8/site-packages (from aiohttp->datasets) (1.8.2)\n",
      "Requirement already satisfied: async-timeout<5.0,>=4.0.0a3 in /opt/conda/envs/rapids/lib/python3.8/site-packages (from aiohttp->datasets) (4.0.2)\n",
      "Requirement already satisfied: aiosignal>=1.1.2 in /opt/conda/envs/rapids/lib/python3.8/site-packages (from aiohttp->datasets) (1.3.1)\n",
      "Requirement already satisfied: protobuf!=3.19.5,>=3.15.3 in /opt/conda/envs/rapids/lib/python3.8/site-packages (from ray>=2.5.1->vllm==0.2.1.post1) (4.21.12)\n",
      "Requirement already satisfied: click>=7.0 in /opt/conda/envs/rapids/lib/python3.8/site-packages (from ray>=2.5.1->vllm==0.2.1.post1) (8.1.3)\n",
      "Requirement already satisfied: msgpack<2.0.0,>=1.0.0 in /opt/conda/envs/rapids/lib/python3.8/site-packages (from ray>=2.5.1->vllm==0.2.1.post1) (1.0.5)\n",
      "Requirement already satisfied: jsonschema in /opt/conda/envs/rapids/lib/python3.8/site-packages (from ray>=2.5.1->vllm==0.2.1.post1) (4.17.3)\n",
      "Requirement already satisfied: certifi>=2017.4.17 in /opt/conda/envs/rapids/lib/python3.8/site-packages (from requests->transformers==4.34.0) (2023.7.22)\n",
      "Requirement already satisfied: urllib3<1.27,>=1.21.1 in /opt/conda/envs/rapids/lib/python3.8/site-packages (from requests->transformers==4.34.0) (1.26.15)\n",
      "Requirement already satisfied: idna<4,>=2.5 in /opt/conda/envs/rapids/lib/python3.8/site-packages (from requests->transformers==4.34.0) (3.4)\n",
      "Requirement already satisfied: starlette==0.20.4 in /opt/conda/envs/rapids/lib/python3.8/site-packages (from fastapi->vllm==0.2.1.post1) (0.20.4)\n",
      "Requirement already satisfied: anyio<5,>=3.4.0 in /opt/conda/envs/rapids/lib/python3.8/site-packages (from starlette==0.20.4->fastapi->vllm==0.2.1.post1) (3.6.2)\n",
      "Requirement already satisfied: python-dateutil>=2.8.1 in /opt/conda/envs/rapids/lib/python3.8/site-packages (from pandas->vllm==0.2.1.post1) (2.8.2)\n",
      "Requirement already satisfied: pytz>=2020.1 in /opt/conda/envs/rapids/lib/python3.8/site-packages (from pandas->vllm==0.2.1.post1) (2023.3)\n",
      "Requirement already satisfied: h11>=0.8 in /opt/conda/envs/rapids/lib/python3.8/site-packages (from uvicorn[standard]->vllm==0.2.1.post1) (0.14.0)\n",
      "Collecting uvloop!=0.15.0,!=0.15.1,>=0.14.0\n",
      "  Downloading uvloop-0.19.0-cp38-cp38-manylinux_2_17_x86_64.manylinux2014_x86_64.whl (4.0 MB)\n",
      "\u001b[2K     \u001b[90m━━━━━━━━━━━━━━━━━━━━━━━━━━━━━━━━━━━━━━━━\u001b[0m \u001b[32m4.0/4.0 MB\u001b[0m \u001b[31m43.6 MB/s\u001b[0m eta \u001b[36m0:00:00\u001b[0m:00:01\u001b[0m\n",
      "\u001b[?25hCollecting httptools>=0.5.0\n",
      "  Downloading httptools-0.6.1-cp38-cp38-manylinux_2_5_x86_64.manylinux1_x86_64.manylinux_2_17_x86_64.manylinux2014_x86_64.whl (354 kB)\n",
      "\u001b[2K     \u001b[90m━━━━━━━━━━━━━━━━━━━━━━━━━━━━━━━━━━━━━━━\u001b[0m \u001b[32m354.4/354.4 kB\u001b[0m \u001b[31m7.6 MB/s\u001b[0m eta \u001b[36m0:00:00\u001b[0m00:01\u001b[0m\n",
      "\u001b[?25hCollecting python-dotenv>=0.13\n",
      "  Downloading python_dotenv-1.0.0-py3-none-any.whl (19 kB)\n",
      "Requirement already satisfied: websockets>=10.4 in /opt/conda/envs/rapids/lib/python3.8/site-packages (from uvicorn[standard]->vllm==0.2.1.post1) (10.4)\n",
      "Collecting watchfiles>=0.13\n",
      "  Downloading watchfiles-0.21.0-cp38-cp38-manylinux_2_17_x86_64.manylinux2014_x86_64.whl (1.3 MB)\n",
      "\u001b[2K     \u001b[90m━━━━━━━━━━━━━━━━━━━━━━━━━━━━━━━━━━━━━━━━\u001b[0m \u001b[32m1.3/1.3 MB\u001b[0m \u001b[31m24.3 MB/s\u001b[0m eta \u001b[36m0:00:00\u001b[0m:00:01\u001b[0m\n",
      "\u001b[?25hRequirement already satisfied: six>=1.5 in /opt/conda/envs/rapids/lib/python3.8/site-packages (from python-dateutil>=2.8.1->pandas->vllm==0.2.1.post1) (1.16.0)\n",
      "Requirement already satisfied: MarkupSafe>=2.0 in /opt/conda/envs/rapids/lib/python3.8/site-packages (from jinja2->torch==2.0.1->vllm==0.2.1.post1) (2.1.2)\n",
      "Requirement already satisfied: pkgutil-resolve-name>=1.3.10 in /opt/conda/envs/rapids/lib/python3.8/site-packages (from jsonschema->ray>=2.5.1->vllm==0.2.1.post1) (1.3.10)\n",
      "Requirement already satisfied: pyrsistent!=0.17.0,!=0.17.1,!=0.17.2,>=0.14.0 in /opt/conda/envs/rapids/lib/python3.8/site-packages (from jsonschema->ray>=2.5.1->vllm==0.2.1.post1) (0.19.3)\n",
      "Requirement already satisfied: importlib-resources>=1.4.0 in /opt/conda/envs/rapids/lib/python3.8/site-packages (from jsonschema->ray>=2.5.1->vllm==0.2.1.post1) (5.12.0)\n",
      "Collecting mpmath>=0.19\n",
      "  Downloading mpmath-1.3.0-py3-none-any.whl (536 kB)\n",
      "\u001b[2K     \u001b[90m━━━━━━━━━━━━━━━━━━━━━━━━━━━━━━━━━━━━━\u001b[0m \u001b[32m536.2/536.2 kB\u001b[0m \u001b[31m147.7 MB/s\u001b[0m eta \u001b[36m0:00:00\u001b[0m\n",
      "\u001b[?25hRequirement already satisfied: sniffio>=1.1 in /opt/conda/envs/rapids/lib/python3.8/site-packages (from anyio<5,>=3.4.0->starlette==0.20.4->fastapi->vllm==0.2.1.post1) (1.3.0)\n",
      "Requirement already satisfied: zipp>=3.1.0 in /opt/conda/envs/rapids/lib/python3.8/site-packages (from importlib-resources>=1.4.0->jsonschema->ray>=2.5.1->vllm==0.2.1.post1) (3.15.0)\n",
      "Building wheels for collected packages: lit\n",
      "  Building wheel for lit (pyproject.toml) ... \u001b[?25ldone\n",
      "\u001b[?25h  Created wheel for lit: filename=lit-17.0.5-py3-none-any.whl size=93256 sha256=548e6722b5522d7c843fd7c4a5d64e6e0a09a1642ff98cfd5d39b4e5c8e551c9\n",
      "  Stored in directory: /root/.cache/pip/wheels/12/42/22/eca29535076f28891838e54a682d6994450d3782baaf93ec8a\n",
      "Successfully built lit\n",
      "Installing collected packages: sentencepiece, ninja, mpmath, lit, cmake, bitsandbytes, xxhash, uvloop, sympy, safetensors, regex, python-dotenv, pyarrow-hotfix, nvidia-nvtx-cu11, nvidia-nccl-cu11, nvidia-cusparse-cu11, nvidia-curand-cu11, nvidia-cufft-cu11, nvidia-cuda-runtime-cu11, nvidia-cuda-nvrtc-cu11, nvidia-cuda-cupti-cu11, nvidia-cublas-cu11, httptools, dill, absl-py, watchfiles, nvidia-cusolver-cu11, nvidia-cudnn-cu11, multiprocess, huggingface-hub, tokenizers, ray, transformers, datasets, triton, torch, xformers, accelerate, vllm, peft\n",
      "  Attempting uninstall: absl-py\n",
      "    Found existing installation: absl-py 1.4.0\n",
      "    Uninstalling absl-py-1.4.0:\n",
      "      Successfully uninstalled absl-py-1.4.0\n",
      "Successfully installed absl-py-1.3.0 accelerate-0.24.1 bitsandbytes-0.41.2.post2 cmake-3.27.7 datasets-2.14.7 dill-0.3.7 httptools-0.6.1 huggingface-hub-0.17.3 lit-17.0.5 mpmath-1.3.0 multiprocess-0.70.15 ninja-1.11.1.1 nvidia-cublas-cu11-11.10.3.66 nvidia-cuda-cupti-cu11-11.7.101 nvidia-cuda-nvrtc-cu11-11.7.99 nvidia-cuda-runtime-cu11-11.7.99 nvidia-cudnn-cu11-8.5.0.96 nvidia-cufft-cu11-10.9.0.58 nvidia-curand-cu11-10.2.10.91 nvidia-cusolver-cu11-11.4.0.1 nvidia-cusparse-cu11-11.7.4.91 nvidia-nccl-cu11-2.14.3 nvidia-nvtx-cu11-11.7.91 peft-0.6.2 pyarrow-hotfix-0.5 python-dotenv-1.0.0 ray-2.8.0 regex-2023.10.3 safetensors-0.4.0 sentencepiece-0.1.99 sympy-1.12 tokenizers-0.14.1 torch-2.0.1 transformers-4.34.0 triton-2.0.0 uvloop-0.19.0 vllm-0.2.1.post1 watchfiles-0.21.0 xformers-0.0.22 xxhash-3.4.1\n",
      "\u001b[33mWARNING: Running pip as the 'root' user can result in broken permissions and conflicting behaviour with the system package manager. It is recommended to use a virtual environment instead: https://pip.pypa.io/warnings/venv\u001b[0m\u001b[33m\n",
      "\u001b[0m"
     ]
    }
   ],
   "source": [
    "!pip install peft transformers==4.34.0 tokenizers vllm==0.2.1.post1 bitsandbytes datasets absl-py==1.3.0"
   ]
  },
  {
   "cell_type": "markdown",
   "id": "0d875a77-e12b-4fb7-bbef-e54e8b2113b8",
   "metadata": {},
   "source": [
    "### Import Libraries"
   ]
  },
  {
   "cell_type": "code",
   "execution_count": 16,
   "id": "29fb24a1-da33-43e2-9924-c9ccae223717",
   "metadata": {
    "tags": []
   },
   "outputs": [],
   "source": [
    "from datasets import Dataset, ClassLabel\n",
    "from transformers import AutoTokenizer, AutoModelForCausalLM\n",
    "import sys\n",
    "from utils import Concatenator\n",
    "import pandas as pd\n",
    "pd.set_option('display.max_colwidth', None)\n",
    "\n",
    "import torch\n",
    "from transformers import LlamaForCausalLM, LlamaTokenizer\n",
    "import os\n",
    "import json\n",
    "from transformers import TrainerCallback\n",
    "from contextlib import nullcontext\n",
    "from transformers import default_data_collator, Trainer, TrainingArguments\n",
    "\n",
    "from snowflake.snowpark.session import Session\n",
    "from snowflake.snowpark import VERSION\n",
    "import snowflake.snowpark.functions as F\n",
    "from snowflake.ml.registry import model_registry\n",
    "from snowflake.ml.model import deploy_platforms\n",
    "from snowflake.ml.model.models import llm\n",
    "\n",
    "import logging \n",
    "logger = logging.getLogger(\"snowflake.snowpark.session\")\n",
    "logger.setLevel(logging.ERROR)\n",
    "logger = logging.getLogger(\"snowflake.ml\")\n",
    "logger.setLevel(logging.ERROR)"
   ]
  },
  {
   "cell_type": "markdown",
   "id": "0306b93f-c225-40ea-8480-10739c887b4d",
   "metadata": {},
   "source": [
    "### Load Base Model and Tokenizer"
   ]
  },
  {
   "cell_type": "code",
   "execution_count": 5,
   "id": "285bbd17-dd07-41a0-a40b-2301e74e4022",
   "metadata": {
    "tags": []
   },
   "outputs": [
    {
     "name": "stdout",
     "output_type": "stream",
     "text": [
      "Token will not been saved to git credential helper. Pass `add_to_git_credential=True` if you want to set the git credential as well.\n",
      "Token is valid (permission: read).\n",
      "Your token has been saved to /root/.cache/huggingface/token\n",
      "Login successful\n"
     ]
    }
   ],
   "source": [
    "# TODO: Set your Hugging Face token\n",
    "!huggingface-cli login --token "
   ]
  },
  {
   "cell_type": "code",
   "execution_count": 2,
   "id": "21622331-74b3-48b7-9b8f-5f1b7fba3e74",
   "metadata": {
    "tags": []
   },
   "outputs": [
    {
     "name": "stdout",
     "output_type": "stream",
     "text": [
      "loading tokenizer\n",
      "loading model\n"
     ]
    },
    {
     "data": {
      "application/vnd.jupyter.widget-view+json": {
       "model_id": "d3968d0a7d4c4aad826b97dbe1ae6fc8",
       "version_major": 2,
       "version_minor": 0
      },
      "text/plain": [
       "Loading checkpoint shards:   0%|          | 0/2 [00:00<?, ?it/s]"
      ]
     },
     "metadata": {},
     "output_type": "display_data"
    }
   ],
   "source": [
    "model_id=\"meta-llama/Llama-2-7b-chat-hf\"\n",
    "print('loading tokenizer')\n",
    "tokenizer = LlamaTokenizer.from_pretrained(model_id)\n",
    "print('loading model')\n",
    "model = LlamaForCausalLM.from_pretrained(model_id, load_in_8bit=True, device_map='auto', torch_dtype=torch.float16)"
   ]
  },
  {
   "cell_type": "markdown",
   "id": "419a142a-182d-4a10-a92d-85410828226a",
   "metadata": {},
   "source": [
    "## Prepare Datasets\n",
    "### Load Datasets\n",
    "\n",
    "*IMP NOTE: Please do NOT not run the following cell during the bootcamp session. Fine-tuning on the entire dataset could take over an hour.*"
   ]
  },
  {
   "cell_type": "code",
   "execution_count": 3,
   "id": "9c1c2df6-84e2-4f5d-a019-4a31625e65bb",
   "metadata": {
    "tags": []
   },
   "outputs": [
    {
     "data": {
      "application/vnd.jupyter.widget-view+json": {
       "model_id": "8ef14a8cc32c47d88c131737b40b86ae",
       "version_major": 2,
       "version_minor": 0
      },
      "text/plain": [
       "Map:   0%|          | 0/1368 [00:00<?, ? examples/s]"
      ]
     },
     "metadata": {},
     "output_type": "display_data"
    }
   ],
   "source": [
    "# def prepare_stratified_dataset(path, seed = 42):\n",
    "#     raw_df = pd.read_json(path, lines=True)\n",
    "#     raw_df['id'] = raw_df.index\n",
    "#     ds = Dataset.from_pandas(raw_df, split='train')\n",
    "#     cl = ClassLabel(num_classes=4, names=[\"EN\", \"FR\", \"DE\", \"ES\"])\n",
    "#     new_features = ds.features.copy()\n",
    "#     new_features['lang_label'] = cl\n",
    "#     cl_d = {l : cl.str2int(l) for l in [\"EN\", \"FR\", \"DE\", \"ES\"]}\n",
    "#     def convert_lang(sample):\n",
    "#         sample['lang_label'] = cl_d[sample['language']]\n",
    "#         return sample\n",
    "#     ds = ds.map(convert_lang, features=new_features)\n",
    "#     ds_split = ds.train_test_split(test_size=0.15, stratify_by_column='lang_label', seed=42)\n",
    "#     test_ds_split = ds_split['test'].train_test_split(test_size=2/3, stratify_by_column='lang_label', seed=42)\n",
    "#     return ds_split['train'].to_pandas(), test_ds_split['train'].to_pandas(), test_ds_split['test'].to_pandas()\n",
    "\n",
    "# train_df, eval_df, test_df = prepare_stratified_dataset(\n",
    "#     'transcripts.json'\n",
    "# )"
   ]
  },
  {
   "cell_type": "code",
   "execution_count": null,
   "id": "02ce0d6a-52f8-4a98-bb64-dffd9de39f1d",
   "metadata": {
    "tags": []
   },
   "outputs": [],
   "source": [
    "df = pd.read_json(\"transcripts.json\", lines=True)\n",
    "print(f\"Total records: {df.shape[0]}\")\n",
    "train_df = df.head(100)\n",
    "print(f\"Train        : {train_df.shape[0]}\")\n",
    "eval_df = df[200:300]\n",
    "print(f\"Eval         : {eval_df.shape[0]}\")\n",
    "test_df = df.tail(100)\n",
    "print(f\"Test         : {test_df.shape[0]}\")"
   ]
  },
  {
   "cell_type": "code",
   "execution_count": 4,
   "id": "48eb4986-85f7-4465-b56c-ef35f7edfa95",
   "metadata": {
    "tags": []
   },
   "outputs": [
    {
     "data": {
      "text/html": [
       "<div>\n",
       "<style scoped>\n",
       "    .dataframe tbody tr th:only-of-type {\n",
       "        vertical-align: middle;\n",
       "    }\n",
       "\n",
       "    .dataframe tbody tr th {\n",
       "        vertical-align: top;\n",
       "    }\n",
       "\n",
       "    .dataframe thead th {\n",
       "        text-align: right;\n",
       "    }\n",
       "</style>\n",
       "<table border=\"1\" class=\"dataframe\">\n",
       "  <thead>\n",
       "    <tr style=\"text-align: right;\">\n",
       "      <th></th>\n",
       "      <th>instruction</th>\n",
       "      <th>input</th>\n",
       "      <th>output</th>\n",
       "      <th>language</th>\n",
       "      <th>id</th>\n",
       "      <th>lang_label</th>\n",
       "    </tr>\n",
       "  </thead>\n",
       "  <tbody>\n",
       "    <tr>\n",
       "      <th>0</th>\n",
       "      <td>Extract JSON response with 'location' and 'toy_list' as keys. 'location': Location of the caller. Include city only.'toy_list': List of toy names from the caller.</td>\n",
       "      <td>\"frosty: Greetings! I'm Frosty, your voice bot assistant for the holiday season. What's your name?\\ncaller: Hey Frosty, my name is James.\\nfrosty: Hi James! Where are you calling from?\\ncaller: I'm calling from Sydney.\\nfrosty: Nice to meet you, James from Sydney! Let's get started with your holiday wish list. What toy would you like to choose?\\ncaller: Hmm... I'm not sure yet. What do you recommend?\\nfrosty: I'm happy to help you explore our catalog! Does your child like plush toys?\\ncaller: Yes, my little one definitely loves plush toys.\\nfrosty: We have a sweet 2023 Holiday Fox 12-Inch Plush, or how about the Sesame Street Monster Meditation Elmo? Both are soft and cuddly.\\ncaller: Oh, Elmo for sure!\\nfrosty: The Sesame Street Monster Meditation Elmo is an excellent choice. Tell me, what do you enjoy the most about this time of the year?\\ncaller: I love seeing all the decorations and spending time with my family.\\nfrosty: That's wonderful! Do you have any favorite holiday memories?\\ncaller: One year, we had a fantastic snowball fight in the park with our friends. It was so much fun!\\nfrosty: That sounds like a terrific memory! So, are we adding Sesame Street Monster Meditation Elmo to your wish list?\\ncaller: Yes! And you know what? Add the fox plushie as well.\\nfrosty: You got it, adding the 2023 Holiday Fox 12-Inch Plush and Sesame Street Monster Meditation Elmo to your wish list. Have a great holiday season, James!\\ncaller: Thanks, Frosty! You too!\"</td>\n",
       "      <td>{\"toy_list\": [\"2023 Holiday Fox 12-Inch Plush\", \"Sesame Street Monster Meditation Elmo\"], \"location\": \"Sydney\"}</td>\n",
       "      <td>EN</td>\n",
       "      <td>245</td>\n",
       "      <td>0</td>\n",
       "    </tr>\n",
       "    <tr>\n",
       "      <th>1</th>\n",
       "      <td>Extract JSON response with 'location' and 'toy_list' as keys. 'location': Location of the caller. Include city only.'toy_list': List of toy names from the caller.</td>\n",
       "      <td>\"caller: Hi there!\\nfrosty: Hello! Welcome to our holiday hotline, I'm Frosty. How can I assist you today?\\ncaller: Hey, Frosty. My name is Mike, and I live in Los Angeles.\\nfrosty: Hi, Mike from Los Angeles! What can I help you with?\\ncaller: I want to submit my holiday wish list, but I'm not sure what toys my son would like.\\nfrosty: No problem! I'd be happy to help you explore our catalog. What are some of his interests?\\ncaller: He loves playing with new gadgets and is a fan of Star Wars.\\nfrosty: How about Star Wars LOLA animatronic droid? It's a fun gadget for any Star Wars fan.\\ncaller: That sounds interesting. What else do you have?\\nfrosty: Another option could be a Dog-E, the robot dog. It's a popular gadget for kids this holiday season.\\ncaller: Let's go with the lola droid. But I also need a second toy.\\nfrosty: Alright! Can you tell me more about what he enjoys during this time of the year?\\ncaller: He loves playing outdoors and making snow forts with his friends.\\nfrosty: In that case, he might be interested in the Tiny Land kids fort building kit. It allows him to create forts both indoors and outdoors, perfect for all seasons.\\ncaller: Great, add both the lola droid and fort building kit to our wish list, please.\\nfrosty: Excellent choices, Mike! I'll add the Star Wars LOLA animatronic droid and the Tiny Land kids fort building kit to your wish list. Have a fantastic holiday season!\\n\"</td>\n",
       "      <td>{\"toy_list\": [\"Star Wars LOLA animatronic droid\", \"Tiny Land kids fort building kit\"], \"location\": \"Los Angeles\"}</td>\n",
       "      <td>EN</td>\n",
       "      <td>968</td>\n",
       "      <td>0</td>\n",
       "    </tr>\n",
       "    <tr>\n",
       "      <th>2</th>\n",
       "      <td>Extract JSON response with 'location' and 'toy_list' as keys. 'location': Location of the caller. Include city only.'toy_list': List of toy names from the caller.</td>\n",
       "      <td>\"\\ncaller: Hello, I'm trying to submit a holiday wish list for my child but I'm not sure where to start.\\nfrosty: Hello and welcome! I'd be happy to help. May I have your name please, and where are you calling from?\\ncaller: My name is Laura, and I'm from Birmingham, England.\\nfrosty: Hi Laura! Nice to meet you. Let's start by discussing some toys that might interest your child. What type of toys do they usually enjoy playing with?\\ncaller: Hmm, I think my child loves playing with dolls and playsets.\\nfrosty: Great! We have a wide variety of dolls and playsets. The baby bee doll and barbie science doll set are popular choices. Why do you think your child might be interested in these types of toys?\\ncaller: My child loves role playing and has a great imagination. She also loves things associated with science and nature.\\nfrosty: I see! In that case, the barbie science doll set could be a great fit. Do you have any special plans to celebrate the holiday season with your family?\\ncaller: Yes, we're planning a family get-together. It's one of our favorite traditions during this time of year.\\nfrosty: That sounds lovely! I also wanted to ask what your favorite holiday memory is?\\ncaller: Back when I was a child, I remember a holiday celebration at my grandparents\\u2019 house. It was a beautiful and magical time.\\nfrosty: What a wonderful memory! Let's narrow down your options. Would you prefer the baby bee doll or the barbie science doll set for your child?\\ncaller: I think my child would enjoy the barbie science doll set more.\\nfrosty: Excellent choice, Laura! So, just to confirm, you\\u2019d like the barbie science doll set for your child's holiday wish list?\\ncaller: Yes, that's right.\\nfrosty: Wonderful! I have noted that down. Thank you for sharing your holiday plans and memories with me, Laura. I hope you and your family have a fantastic time together this holiday season!\\ncaller: Thank you so much, Frosty! I appreciate your help. Have a great day!\\n\"</td>\n",
       "      <td>{\"toy_list\": [\"Barbie Science Lab Playset\"], \"location\": \"Birmingham\"}</td>\n",
       "      <td>EN</td>\n",
       "      <td>527</td>\n",
       "      <td>0</td>\n",
       "    </tr>\n",
       "    <tr>\n",
       "      <th>3</th>\n",
       "      <td>Extract JSON response with 'location' and 'toy_list' as keys. 'location': Location of the caller. Include city only.'toy_list': List of toy names from the caller.</td>\n",
       "      <td>\"frosty: Hi there! I'm Frosty, your cheerful voice bot assistant, and I'm here to help you submit your holiday wish list. What's your name and where are you calling from?\\ncaller: Hey Frosty, I'm Jake and I'm calling from Toronto.\\nfrosty: Nice to meet you, Jake from Toronto! What toys would you like to include in your holiday wish list?\\ncaller: Hmm, I'm not sure yet. I was thinking about getting the Jurassic World dinosaur for my son.\\nfrosty: The Jurassic World Dominion Super Colossal Giganotosaurus is an excellent choice! Would you like some more suggestions based on your son's interests?\\ncaller: Yeah, sure!\\nfrosty: How about the Transformers Rise of the Beasts Beast-Mode Bumblebee? It's perfect for kids who love action and adventure.\\ncaller: Hmm, that sounds interesting. I think he'd love that. Let's add that to the list.\\nfrosty: Alright! What do you enjoy most about this time of the year, Jake?\\ncaller: I love spending time with my family, exchanging gifts, and enjoying nice meals together.\\nfrosty: That's the best part about the holidays! Do you have a favorite pastime or hobby?\\ncaller: I'm a big fan of snowboarding during the winter months. Love hitting the slopes on weekends.\\nfrosty: Sounds like a thrilling adventure! So, I have the Transformers Rise of the Beasts Beast-Mode Bumblebee on your wish list. Is there anything else you'd like to add?\\ncaller: Actually, let's add that Jurassic World dinosaur too. He likes both dinosaurs and Transformers, so I'm sure he'll be happy with either one.\\nfrosty: Perfect! So the Jurassic World Dominion Super Colossal Giganotosaurus will also be added to your list. Have a fantastic holiday season, Jake! Goodbye!\\ncaller: Thanks, Frosty! You too! Goodbye!\"</td>\n",
       "      <td>{\"toy_list\": [\"Transformers Rise of the Beasts Beast-Mode Bumblebee\", \"Jurassic World Dominion Super Colossal Giganotosaurus\"], \"location\": \"Toronto\"}</td>\n",
       "      <td>EN</td>\n",
       "      <td>105</td>\n",
       "      <td>0</td>\n",
       "    </tr>\n",
       "    <tr>\n",
       "      <th>4</th>\n",
       "      <td>Extract JSON response with 'location' and 'toy_list' as keys. 'location': Location of the caller. Include city only.'toy_list': List of toy names from the caller.</td>\n",
       "      <td>\"frosty: Welcome to our holiday hotline! My name is Frosty, your friendly voice bot. How can I assist you with your holiday wish list today?\\ncaller: Hello, Frosty! I'd like to submit a holiday wish list for my grandkids. My name is Linda.\\nfrosty: Nice to meet you, Linda! Where are you calling from?\\ncaller: I'm calling from Wellington, New Zealand.\\nfrosty: Wonderful! Now, let's talk about your grandkids' holiday wish list. What items are you considering?\\ncaller: I was thinking about getting them the bluey playhouse and the fingerlings monkey, but I'm open to other suggestions.\\nfrosty: The Bluey Ultimate Lights and Sounds playhouse and the Fingerlings are both popular choices for kids! If you're looking for an interactive pet, how about the Little Live Pets Mama Surprise or the Bitzee interactive pet?\\ncaller: Oh, those sound interesting! Can you tell me more about the Little Live Pets Mama Surprise?\\nfrosty: Absolutely! The Little Live Pets Mama Surprise is an adorable interactive pet with baby surprises concealed inside. Kids will love discovering the baby animals and caring for them, encouraging nurturing play.\\ncaller: That's perfect! Let's add that to the list instead of the fingerlings monkey.\\nfrosty: Great! So, we have the Bluey Ultimate Lights and Sounds playhouse and the Little Live Pets Mama Surprise on your holiday wish list. Is that correct?\\ncaller: Yes, that's correct. Thank you, Frosty!\\nfrosty: You're welcome, Linda! I hope your grandkids enjoy their gifts, and you all have a fantastic holiday season. Goodbye!\\ncaller: Goodbye!\"</td>\n",
       "      <td>{\"toy_list\": [\"Bluey Ultimate Lights and Sounds playhouse\", \"Little Live Pets Mama Surprise\"], \"location\": \"Wellington\"}</td>\n",
       "      <td>EN</td>\n",
       "      <td>999</td>\n",
       "      <td>0</td>\n",
       "    </tr>\n",
       "  </tbody>\n",
       "</table>\n",
       "</div>"
      ],
      "text/plain": [
       "                                                                                                                                                          instruction  \\\n",
       "0  Extract JSON response with 'location' and 'toy_list' as keys. 'location': Location of the caller. Include city only.'toy_list': List of toy names from the caller.   \n",
       "1  Extract JSON response with 'location' and 'toy_list' as keys. 'location': Location of the caller. Include city only.'toy_list': List of toy names from the caller.   \n",
       "2  Extract JSON response with 'location' and 'toy_list' as keys. 'location': Location of the caller. Include city only.'toy_list': List of toy names from the caller.   \n",
       "3  Extract JSON response with 'location' and 'toy_list' as keys. 'location': Location of the caller. Include city only.'toy_list': List of toy names from the caller.   \n",
       "4  Extract JSON response with 'location' and 'toy_list' as keys. 'location': Location of the caller. Include city only.'toy_list': List of toy names from the caller.   \n",
       "\n",
       "                                                                                                                                                                                                                                                                                                                                                                                                                                                                                                                                                                                                                                                                                                                                                                                                                                                                                                                                                                                                                                                                                                                                                                                                                                                                                                                                                                                                                                                                                                                                                                                                                                                                                                                                                                                                                                                                                                                                                                                                                                                               input  \\\n",
       "0                                                                                                                                                                                                                                                                                                                                                                                                                                                                                                                            \"frosty: Greetings! I'm Frosty, your voice bot assistant for the holiday season. What's your name?\\ncaller: Hey Frosty, my name is James.\\nfrosty: Hi James! Where are you calling from?\\ncaller: I'm calling from Sydney.\\nfrosty: Nice to meet you, James from Sydney! Let's get started with your holiday wish list. What toy would you like to choose?\\ncaller: Hmm... I'm not sure yet. What do you recommend?\\nfrosty: I'm happy to help you explore our catalog! Does your child like plush toys?\\ncaller: Yes, my little one definitely loves plush toys.\\nfrosty: We have a sweet 2023 Holiday Fox 12-Inch Plush, or how about the Sesame Street Monster Meditation Elmo? Both are soft and cuddly.\\ncaller: Oh, Elmo for sure!\\nfrosty: The Sesame Street Monster Meditation Elmo is an excellent choice. Tell me, what do you enjoy the most about this time of the year?\\ncaller: I love seeing all the decorations and spending time with my family.\\nfrosty: That's wonderful! Do you have any favorite holiday memories?\\ncaller: One year, we had a fantastic snowball fight in the park with our friends. It was so much fun!\\nfrosty: That sounds like a terrific memory! So, are we adding Sesame Street Monster Meditation Elmo to your wish list?\\ncaller: Yes! And you know what? Add the fox plushie as well.\\nfrosty: You got it, adding the 2023 Holiday Fox 12-Inch Plush and Sesame Street Monster Meditation Elmo to your wish list. Have a great holiday season, James!\\ncaller: Thanks, Frosty! You too!\"   \n",
       "1                                                                                                                                                                                                                                                                                                                                                                                                                                                                                                                                                                                   \"caller: Hi there!\\nfrosty: Hello! Welcome to our holiday hotline, I'm Frosty. How can I assist you today?\\ncaller: Hey, Frosty. My name is Mike, and I live in Los Angeles.\\nfrosty: Hi, Mike from Los Angeles! What can I help you with?\\ncaller: I want to submit my holiday wish list, but I'm not sure what toys my son would like.\\nfrosty: No problem! I'd be happy to help you explore our catalog. What are some of his interests?\\ncaller: He loves playing with new gadgets and is a fan of Star Wars.\\nfrosty: How about Star Wars LOLA animatronic droid? It's a fun gadget for any Star Wars fan.\\ncaller: That sounds interesting. What else do you have?\\nfrosty: Another option could be a Dog-E, the robot dog. It's a popular gadget for kids this holiday season.\\ncaller: Let's go with the lola droid. But I also need a second toy.\\nfrosty: Alright! Can you tell me more about what he enjoys during this time of the year?\\ncaller: He loves playing outdoors and making snow forts with his friends.\\nfrosty: In that case, he might be interested in the Tiny Land kids fort building kit. It allows him to create forts both indoors and outdoors, perfect for all seasons.\\ncaller: Great, add both the lola droid and fort building kit to our wish list, please.\\nfrosty: Excellent choices, Mike! I'll add the Star Wars LOLA animatronic droid and the Tiny Land kids fort building kit to your wish list. Have a fantastic holiday season!\\n\"   \n",
       "2  \"\\ncaller: Hello, I'm trying to submit a holiday wish list for my child but I'm not sure where to start.\\nfrosty: Hello and welcome! I'd be happy to help. May I have your name please, and where are you calling from?\\ncaller: My name is Laura, and I'm from Birmingham, England.\\nfrosty: Hi Laura! Nice to meet you. Let's start by discussing some toys that might interest your child. What type of toys do they usually enjoy playing with?\\ncaller: Hmm, I think my child loves playing with dolls and playsets.\\nfrosty: Great! We have a wide variety of dolls and playsets. The baby bee doll and barbie science doll set are popular choices. Why do you think your child might be interested in these types of toys?\\ncaller: My child loves role playing and has a great imagination. She also loves things associated with science and nature.\\nfrosty: I see! In that case, the barbie science doll set could be a great fit. Do you have any special plans to celebrate the holiday season with your family?\\ncaller: Yes, we're planning a family get-together. It's one of our favorite traditions during this time of year.\\nfrosty: That sounds lovely! I also wanted to ask what your favorite holiday memory is?\\ncaller: Back when I was a child, I remember a holiday celebration at my grandparents\\u2019 house. It was a beautiful and magical time.\\nfrosty: What a wonderful memory! Let's narrow down your options. Would you prefer the baby bee doll or the barbie science doll set for your child?\\ncaller: I think my child would enjoy the barbie science doll set more.\\nfrosty: Excellent choice, Laura! So, just to confirm, you\\u2019d like the barbie science doll set for your child's holiday wish list?\\ncaller: Yes, that's right.\\nfrosty: Wonderful! I have noted that down. Thank you for sharing your holiday plans and memories with me, Laura. I hope you and your family have a fantastic time together this holiday season!\\ncaller: Thank you so much, Frosty! I appreciate your help. Have a great day!\\n\"   \n",
       "3                                                                                                                                                                                                                                                             \"frosty: Hi there! I'm Frosty, your cheerful voice bot assistant, and I'm here to help you submit your holiday wish list. What's your name and where are you calling from?\\ncaller: Hey Frosty, I'm Jake and I'm calling from Toronto.\\nfrosty: Nice to meet you, Jake from Toronto! What toys would you like to include in your holiday wish list?\\ncaller: Hmm, I'm not sure yet. I was thinking about getting the Jurassic World dinosaur for my son.\\nfrosty: The Jurassic World Dominion Super Colossal Giganotosaurus is an excellent choice! Would you like some more suggestions based on your son's interests?\\ncaller: Yeah, sure!\\nfrosty: How about the Transformers Rise of the Beasts Beast-Mode Bumblebee? It's perfect for kids who love action and adventure.\\ncaller: Hmm, that sounds interesting. I think he'd love that. Let's add that to the list.\\nfrosty: Alright! What do you enjoy most about this time of the year, Jake?\\ncaller: I love spending time with my family, exchanging gifts, and enjoying nice meals together.\\nfrosty: That's the best part about the holidays! Do you have a favorite pastime or hobby?\\ncaller: I'm a big fan of snowboarding during the winter months. Love hitting the slopes on weekends.\\nfrosty: Sounds like a thrilling adventure! So, I have the Transformers Rise of the Beasts Beast-Mode Bumblebee on your wish list. Is there anything else you'd like to add?\\ncaller: Actually, let's add that Jurassic World dinosaur too. He likes both dinosaurs and Transformers, so I'm sure he'll be happy with either one.\\nfrosty: Perfect! So the Jurassic World Dominion Super Colossal Giganotosaurus will also be added to your list. Have a fantastic holiday season, Jake! Goodbye!\\ncaller: Thanks, Frosty! You too! Goodbye!\"   \n",
       "4                                                                                                                                                                                                                                                                                                                                                                                                                            \"frosty: Welcome to our holiday hotline! My name is Frosty, your friendly voice bot. How can I assist you with your holiday wish list today?\\ncaller: Hello, Frosty! I'd like to submit a holiday wish list for my grandkids. My name is Linda.\\nfrosty: Nice to meet you, Linda! Where are you calling from?\\ncaller: I'm calling from Wellington, New Zealand.\\nfrosty: Wonderful! Now, let's talk about your grandkids' holiday wish list. What items are you considering?\\ncaller: I was thinking about getting them the bluey playhouse and the fingerlings monkey, but I'm open to other suggestions.\\nfrosty: The Bluey Ultimate Lights and Sounds playhouse and the Fingerlings are both popular choices for kids! If you're looking for an interactive pet, how about the Little Live Pets Mama Surprise or the Bitzee interactive pet?\\ncaller: Oh, those sound interesting! Can you tell me more about the Little Live Pets Mama Surprise?\\nfrosty: Absolutely! The Little Live Pets Mama Surprise is an adorable interactive pet with baby surprises concealed inside. Kids will love discovering the baby animals and caring for them, encouraging nurturing play.\\ncaller: That's perfect! Let's add that to the list instead of the fingerlings monkey.\\nfrosty: Great! So, we have the Bluey Ultimate Lights and Sounds playhouse and the Little Live Pets Mama Surprise on your holiday wish list. Is that correct?\\ncaller: Yes, that's correct. Thank you, Frosty!\\nfrosty: You're welcome, Linda! I hope your grandkids enjoy their gifts, and you all have a fantastic holiday season. Goodbye!\\ncaller: Goodbye!\"   \n",
       "\n",
       "                                                                                                                                                   output  \\\n",
       "0                                         {\"toy_list\": [\"2023 Holiday Fox 12-Inch Plush\", \"Sesame Street Monster Meditation Elmo\"], \"location\": \"Sydney\"}   \n",
       "1                                       {\"toy_list\": [\"Star Wars LOLA animatronic droid\", \"Tiny Land kids fort building kit\"], \"location\": \"Los Angeles\"}   \n",
       "2                                                                                  {\"toy_list\": [\"Barbie Science Lab Playset\"], \"location\": \"Birmingham\"}   \n",
       "3  {\"toy_list\": [\"Transformers Rise of the Beasts Beast-Mode Bumblebee\", \"Jurassic World Dominion Super Colossal Giganotosaurus\"], \"location\": \"Toronto\"}   \n",
       "4                                {\"toy_list\": [\"Bluey Ultimate Lights and Sounds playhouse\", \"Little Live Pets Mama Surprise\"], \"location\": \"Wellington\"}   \n",
       "\n",
       "  language   id  lang_label  \n",
       "0       EN  245           0  \n",
       "1       EN  968           0  \n",
       "2       EN  527           0  \n",
       "3       EN  105           0  \n",
       "4       EN  999           0  "
      ]
     },
     "execution_count": 4,
     "metadata": {},
     "output_type": "execute_result"
    }
   ],
   "source": [
    "train_df.head()"
   ]
  },
  {
   "cell_type": "code",
   "execution_count": 5,
   "id": "79793829-d70f-4bed-93b2-1a4db2fbfaea",
   "metadata": {
    "tags": []
   },
   "outputs": [],
   "source": [
    "datasets = {\n",
    "    'train': Dataset.from_pandas(train_df),\n",
    "    'eval': Dataset.from_pandas(eval_df),\n",
    "    'test': Dataset.from_pandas(test_df)\n",
    "}"
   ]
  },
  {
   "cell_type": "markdown",
   "id": "cceb080d-a35e-4629-88d9-46c1d97c90dd",
   "metadata": {},
   "source": [
    "### Apply Prompt to Datasets"
   ]
  },
  {
   "cell_type": "code",
   "execution_count": 6,
   "id": "e684e33f-d7db-4418-bab5-c3d490067fa3",
   "metadata": {
    "tags": []
   },
   "outputs": [],
   "source": [
    "train_prompt = f\"\"\"\n",
    "[INST] <<SYS>>\n",
    "Below is an instruction that describes a task, paired with an input that provides further context. Write a response that appropriately completes the request.\n",
    "<</SYS>>\n",
    "### Instruction:\n",
    "{{instruction}}\n",
    "### Input:\n",
    "{{input_}}\n",
    "### Output:\n",
    "{{output}}\n",
    "{{eos_token}}\n",
    "\"\"\"\n",
    "\n",
    "eval_prompt = f\"\"\"\n",
    "[INST] <<SYS>>\n",
    "Below is an instruction that describes a task, paired with an input that provides further context. Write a response that appropriately completes the request.\n",
    "<</SYS>>\n",
    "### Instruction:\n",
    "{{instruction}}\n",
    "### Input:\n",
    "{{input_}}\n",
    "### Output:\n",
    "\"\"\""
   ]
  },
  {
   "cell_type": "code",
   "execution_count": 7,
   "id": "01ff73e9-780a-44cd-b792-e351a9601f5b",
   "metadata": {
    "tags": []
   },
   "outputs": [
    {
     "data": {
      "application/vnd.jupyter.widget-view+json": {
       "model_id": "ce5048abc97e4d5e8991ff4557ec09c8",
       "version_major": 2,
       "version_minor": 0
      },
      "text/plain": [
       "Map:   0%|          | 0/1162 [00:00<?, ? examples/s]"
      ]
     },
     "metadata": {},
     "output_type": "display_data"
    },
    {
     "data": {
      "application/vnd.jupyter.widget-view+json": {
       "model_id": "2c14dfadc1dd4e478970a296a945991d",
       "version_major": 2,
       "version_minor": 0
      },
      "text/plain": [
       "Map:   0%|          | 0/68 [00:00<?, ? examples/s]"
      ]
     },
     "metadata": {},
     "output_type": "display_data"
    },
    {
     "data": {
      "application/vnd.jupyter.widget-view+json": {
       "model_id": "baac4f89dfe24c30b7cc9b32b4fa90f9",
       "version_major": 2,
       "version_minor": 0
      },
      "text/plain": [
       "Map:   0%|          | 0/138 [00:00<?, ? examples/s]"
      ]
     },
     "metadata": {},
     "output_type": "display_data"
    }
   ],
   "source": [
    "def apply_train_template(sample):\n",
    "    return {\n",
    "        \"text\": train_prompt.format(\n",
    "            instruction=sample[\"instruction\"],\n",
    "            input_=sample[\"input\"].replace('\\\\n', '\\n'),\n",
    "            output=sample[\"output\"],\n",
    "            eos_token=tokenizer.eos_token,\n",
    "        )\n",
    "    }\n",
    "\n",
    "def apply_eval_template(sample):\n",
    "    return {\n",
    "        \"text\": eval_prompt.format(\n",
    "            instruction=sample[\"instruction\"],\n",
    "            input_=sample[\"input\"].replace('\\\\n', '\\n')\n",
    "        )\n",
    "    }\n",
    "\n",
    "\n",
    "\n",
    "#applying template\n",
    "\n",
    "datasets['train'] = datasets['train'].map(apply_train_template, remove_columns=list(datasets['train'].features))\n",
    "for k in ['eval', 'test']:\n",
    "    datasets[k] = datasets[k].map(apply_eval_template, remove_columns=list(datasets[k].features))\n"
   ]
  },
  {
   "cell_type": "markdown",
   "id": "ac551d54-0591-43bc-a96a-da5edd3aa565",
   "metadata": {},
   "source": [
    "### Tokenize Datasets"
   ]
  },
  {
   "cell_type": "code",
   "execution_count": 8,
   "id": "2290f191-ba23-4b83-8653-3d9c97d512cd",
   "metadata": {
    "tags": []
   },
   "outputs": [
    {
     "data": {
      "application/vnd.jupyter.widget-view+json": {
       "model_id": "3d3ef541aa0d448abe280dbeeee5e671",
       "version_major": 2,
       "version_minor": 0
      },
      "text/plain": [
       "Map:   0%|          | 0/1162 [00:00<?, ? examples/s]"
      ]
     },
     "metadata": {},
     "output_type": "display_data"
    },
    {
     "data": {
      "application/vnd.jupyter.widget-view+json": {
       "model_id": "b5ca970ed7f74530a145bdde91107aca",
       "version_major": 2,
       "version_minor": 0
      },
      "text/plain": [
       "Map:   0%|          | 0/1162 [00:00<?, ? examples/s]"
      ]
     },
     "metadata": {},
     "output_type": "display_data"
    },
    {
     "data": {
      "application/vnd.jupyter.widget-view+json": {
       "model_id": "ae4ef53126dc40969becbfc2c4093572",
       "version_major": 2,
       "version_minor": 0
      },
      "text/plain": [
       "Map:   0%|          | 0/68 [00:00<?, ? examples/s]"
      ]
     },
     "metadata": {},
     "output_type": "display_data"
    },
    {
     "data": {
      "application/vnd.jupyter.widget-view+json": {
       "model_id": "d7fbf4d23dde46a5978b241b8c0e2125",
       "version_major": 2,
       "version_minor": 0
      },
      "text/plain": [
       "Map:   0%|          | 0/68 [00:00<?, ? examples/s]"
      ]
     },
     "metadata": {},
     "output_type": "display_data"
    },
    {
     "data": {
      "application/vnd.jupyter.widget-view+json": {
       "model_id": "42963c79df1d43d284103ff375f5021f",
       "version_major": 2,
       "version_minor": 0
      },
      "text/plain": [
       "Map:   0%|          | 0/138 [00:00<?, ? examples/s]"
      ]
     },
     "metadata": {},
     "output_type": "display_data"
    },
    {
     "data": {
      "application/vnd.jupyter.widget-view+json": {
       "model_id": "329fe72c8b084e41bc3cd07306cffa5f",
       "version_major": 2,
       "version_minor": 0
      },
      "text/plain": [
       "Map:   0%|          | 0/138 [00:00<?, ? examples/s]"
      ]
     },
     "metadata": {},
     "output_type": "display_data"
    }
   ],
   "source": [
    "for k, v in datasets.items():\n",
    "    datasets[k] = v.map(\n",
    "        lambda sample: tokenizer(sample[\"text\"]),\n",
    "        batched=True,\n",
    "        \n",
    "        remove_columns=list(v.features),\n",
    "    ).map(Concatenator(), batched=True)"
   ]
  },
  {
   "cell_type": "markdown",
   "id": "88447074-21a8-433a-a937-a3e3514650c4",
   "metadata": {},
   "source": [
    "## Fine-tune Llama 2 Model\n",
    "\n",
    "\n",
    "Fine-tuning is one form of model training. We start training from a pre-trained model and adjust a set of model parameters to better solve for a concrete task based on task specific data. Today we are going to fine-tune 7B Llama 2 model using LoRA (Low-Rank Adaptation)--which is a parameter efficient way of fine-tuning LLM. \n",
    "\n",
    "Instead of adjusting all the ~7B parameters, LoRA allows us to adjust only a percent of model weights--which can save compute and memory resources dramatically. For this lab, we will fine-tune our model using LoRA on a single A10 GPU. This will demostrate how good the inference can be on fine-tuned models even with limited compute.\n",
    "\n",
    "### Configuration\n",
    "\n",
    "We're passing `train_dataset` and `eval_dataset` that are used to generate loss calculation during fine-tuning process and we've set `output_weights_dir` as the directory where the fine-tuned weights will be stored after fine-tuning job completes.\n",
    "\n",
    "To achieve good performance for the task, you will need at least 1 `num_epochs`, feel free to explore this on your own."
   ]
  },
  {
   "cell_type": "code",
   "execution_count": 9,
   "id": "6ba1f466-d668-4f68-9d8d-ea7367b0369d",
   "metadata": {
    "tags": []
   },
   "outputs": [
    {
     "name": "stdout",
     "output_type": "stream",
     "text": [
      "trainable params: 4,194,304 || all params: 6,742,609,920 || trainable%: 0.06220594176090199\n"
     ]
    }
   ],
   "source": [
    "#setting the model into training mode\n",
    "model.train()\n",
    "\n",
    "#setting up training\n",
    "def create_peft_config(model):\n",
    "    from peft import (\n",
    "        get_peft_model,\n",
    "        LoraConfig,\n",
    "        TaskType,\n",
    "        prepare_model_for_kbit_training,\n",
    "    )\n",
    "\n",
    "    peft_config = LoraConfig(\n",
    "        task_type=TaskType.CAUSAL_LM,\n",
    "        inference_mode=False,\n",
    "        r=8,\n",
    "        lora_alpha=32,\n",
    "        lora_dropout=0.05,\n",
    "        target_modules = [\"q_proj\", \"v_proj\"]\n",
    "    )\n",
    "\n",
    "    # prepare int-8 model for training\n",
    "    model = prepare_model_for_kbit_training(model)\n",
    "    model = get_peft_model(model, peft_config)\n",
    "    model.print_trainable_parameters()\n",
    "    return model, peft_config\n",
    "\n",
    "# create peft config\n",
    "model, lora_config = create_peft_config(model)\n"
   ]
  },
  {
   "cell_type": "code",
   "execution_count": 36,
   "id": "b15d38d4-c399-4daa-9771-df29edf8c3b9",
   "metadata": {
    "tags": []
   },
   "outputs": [],
   "source": [
    "# !rm -r output_weights_dir # deletes prior fine tuning weights\n",
    "!mkdir output_weights_dir"
   ]
  },
  {
   "cell_type": "code",
   "execution_count": 10,
   "id": "328c128c-5321-4132-a9b6-da362f62790c",
   "metadata": {
    "tags": []
   },
   "outputs": [],
   "source": [
    "output_dir = \"output_weights_dir\"\n",
    "enable_profiler = False\n",
    "\n",
    "config = {\n",
    "    'lora_config': lora_config,\n",
    "    'learning_rate': 1e-4,\n",
    "    'num_train_epochs': 1,\n",
    "    'gradient_accumulation_steps': 2,\n",
    "    'per_device_train_batch_size': 2,\n",
    "    'gradient_checkpointing': False,\n",
    "}\n",
    "\n",
    "# Define training args\n",
    "training_args = TrainingArguments(\n",
    "    output_dir=output_dir,\n",
    "    overwrite_output_dir=True,\n",
    "    bf16=True,  # Use BF16 if available\n",
    "    # logging strategies\n",
    "    logging_dir=f\"{output_dir}/logs\",\n",
    "    logging_strategy=\"steps\",\n",
    "    logging_steps=10,\n",
    "    save_strategy=\"no\",\n",
    "    optim=\"adamw_torch_fused\",\n",
    "    max_steps=total_steps if enable_profiler else -1,\n",
    "    **{k:v for k,v in config.items() if k != 'lora_config'}\n",
    ")"
   ]
  },
  {
   "cell_type": "markdown",
   "id": "674205dc-ded7-45eb-9450-a767ae5cfe85",
   "metadata": {},
   "source": [
    "### Finetuning"
   ]
  },
  {
   "cell_type": "code",
   "execution_count": 11,
   "id": "4188f41a-0513-4848-aab6-fb0226d557f4",
   "metadata": {
    "tags": []
   },
   "outputs": [
    {
     "name": "stderr",
     "output_type": "stream",
     "text": [
      "Detected kernel version 5.4.181, which is below the recommended minimum of 5.5.0; this can cause the process to hang. It is recommended to upgrade the kernel to the minimum version or higher.\n",
      "`use_cache=True` is incompatible with gradient checkpointing. Setting `use_cache=False`...\n",
      "/opt/conda/envs/rapids/lib/python3.8/site-packages/bitsandbytes/autograd/_functions.py:322: UserWarning: MatMul8bitLt: inputs will be cast from torch.float32 to float16 during quantization\n",
      "  warnings.warn(f\"MatMul8bitLt: inputs will be cast from {A.dtype} to float16 during quantization\")\n",
      "/opt/conda/envs/rapids/lib/python3.8/site-packages/bitsandbytes/autograd/_functions.py:322: UserWarning: MatMul8bitLt: inputs will be cast from torch.bfloat16 to float16 during quantization\n",
      "  warnings.warn(f\"MatMul8bitLt: inputs will be cast from {A.dtype} to float16 during quantization\")\n"
     ]
    },
    {
     "data": {
      "text/html": [
       "\n",
       "    <div>\n",
       "      \n",
       "      <progress value='83' max='83' style='width:300px; height:20px; vertical-align: middle;'></progress>\n",
       "      [83/83 22:53, Epoch 1/1]\n",
       "    </div>\n",
       "    <table border=\"1\" class=\"dataframe\">\n",
       "  <thead>\n",
       " <tr style=\"text-align: left;\">\n",
       "      <th>Step</th>\n",
       "      <th>Training Loss</th>\n",
       "    </tr>\n",
       "  </thead>\n",
       "  <tbody>\n",
       "    <tr>\n",
       "      <td>10</td>\n",
       "      <td>1.377200</td>\n",
       "    </tr>\n",
       "    <tr>\n",
       "      <td>20</td>\n",
       "      <td>1.094700</td>\n",
       "    </tr>\n",
       "    <tr>\n",
       "      <td>30</td>\n",
       "      <td>0.993100</td>\n",
       "    </tr>\n",
       "    <tr>\n",
       "      <td>40</td>\n",
       "      <td>0.950500</td>\n",
       "    </tr>\n",
       "    <tr>\n",
       "      <td>50</td>\n",
       "      <td>0.890900</td>\n",
       "    </tr>\n",
       "    <tr>\n",
       "      <td>60</td>\n",
       "      <td>0.840400</td>\n",
       "    </tr>\n",
       "    <tr>\n",
       "      <td>70</td>\n",
       "      <td>0.800200</td>\n",
       "    </tr>\n",
       "    <tr>\n",
       "      <td>80</td>\n",
       "      <td>0.791000</td>\n",
       "    </tr>\n",
       "  </tbody>\n",
       "</table><p>"
      ],
      "text/plain": [
       "<IPython.core.display.HTML object>"
      ]
     },
     "metadata": {},
     "output_type": "display_data"
    }
   ],
   "source": [
    "profiler = nullcontext() \n",
    "\n",
    "with profiler:\n",
    "    # Create Trainer instance\n",
    "    trainer = Trainer(\n",
    "        model=model,\n",
    "        args=training_args,\n",
    "        train_dataset=datasets['train'],\n",
    "        eval_dataset=datasets['eval'],\n",
    "        data_collator=default_data_collator,\n",
    "        callbacks=[profiler_callback] if enable_profiler else [],\n",
    "    )\n",
    "\n",
    "    # Start training\n",
    "    trainer.train()\n",
    "    \n",
    "model.save_pretrained(output_dir)"
   ]
  },
  {
   "cell_type": "markdown",
   "id": "29e0f65d-5941-4b65-81e8-67dccf4c703b",
   "metadata": {},
   "source": [
    "## Log and Deploy Fine-tuned Llama 2\n",
    "\n",
    "- Logging and deploying fine-tuned model on this setup (compute and other resources) will take about ~15mins"
   ]
  },
  {
   "cell_type": "markdown",
   "id": "1d57af43-9b3c-45ad-9ce3-eefdf5b79d99",
   "metadata": {
    "tags": []
   },
   "source": [
    "### Establish Secure Connection\n",
    "\n",
    "*NOTE: Update [connection.json](../connection.json) and set your password, Hugging Face token, and replace '####' with your user number.*"
   ]
  },
  {
   "cell_type": "code",
   "execution_count": 12,
   "id": "318991b7-c8f8-4c64-ba7f-d26be720e087",
   "metadata": {
    "tags": []
   },
   "outputs": [
    {
     "name": "stdout",
     "output_type": "stream",
     "text": [
      "User                        : DASH\n",
      "Role                        : \"DASH_SPCS\"\n",
      "Database                    : \"DASH_DB\"\n",
      "Schema                      : \"DASH_SCHEMA\"\n",
      "Warehouse                   : \"DASH_L\"\n",
      "Snowflake version           : 7.41.0\n",
      "Snowpark for Python version : 1.9.0\n"
     ]
    }
   ],
   "source": [
    "# Create Snowflake Session object\n",
    "connection_parameters = json.load(open('connection.json'))\n",
    "session = Session.builder.configs(connection_parameters).create()\n",
    "session.sql_simplifier_enabled = True\n",
    "\n",
    "snowflake_environment = session.sql('select current_user(), current_version()').collect()\n",
    "snowpark_version = VERSION\n",
    "\n",
    "# Current Environment Details\n",
    "print('User                        : {}'.format(snowflake_environment[0][0]))\n",
    "print('Role                        : {}'.format(session.get_current_role()))\n",
    "print('Database                    : {}'.format(session.get_current_database()))\n",
    "print('Schema                      : {}'.format(session.get_current_schema()))\n",
    "print('Warehouse                   : {}'.format(session.get_current_warehouse()))\n",
    "print('Snowflake version           : {}'.format(snowflake_environment[0][1]))\n",
    "print('Snowpark for Python version : {}.{}.{}'.format(snowpark_version[0],snowpark_version[1],snowpark_version[2]))"
   ]
  },
  {
   "cell_type": "markdown",
   "id": "5e9cc712-2d3d-41c5-b417-d18d0f2712e1",
   "metadata": {},
   "source": [
    "### Registery"
   ]
  },
  {
   "cell_type": "code",
   "execution_count": 13,
   "id": "3d42c0c2-39d7-4024-b4ce-a23558ef124e",
   "metadata": {
    "tags": []
   },
   "outputs": [
    {
     "name": "stderr",
     "output_type": "stream",
     "text": [
      "create_model_registry() is in private preview since 0.2.0. Do not use it in production. \n",
      "WARNING:absl:The database DASH_DB already exists. Skipping creation.\n",
      "WARNING:absl:The schema DASH_DB.DASH_SCHEMA already exists. Skipping creation.\n"
     ]
    }
   ],
   "source": [
    "MODEL_NAME = \"LLAMA2_7b_CHAT\"\n",
    "MODEL_VERSION = \"FineTunedV1.1\"\n",
    "DEPLOYMENT_NAME = \"FINETUNED_LLAMA2\"\n",
    "MODEL_REGISTRY_DB = connection_parameters['database']\n",
    "MODEL_REGISTRY_SCHEMA = connection_parameters['schema']\n",
    "COMPUTE_POOL = connection_parameters['compute_pool']\n",
    "\n",
    "registry = model_registry.ModelRegistry(\n",
    "    session=session, \n",
    "    database_name=MODEL_REGISTRY_DB, \n",
    "    schema_name=MODEL_REGISTRY_SCHEMA, \n",
    "    create_if_not_exists=True)"
   ]
  },
  {
   "cell_type": "code",
   "execution_count": 14,
   "id": "a3b75911-a7b7-4226-8b71-23a4a6dd9eda",
   "metadata": {
    "tags": []
   },
   "outputs": [
    {
     "name": "stderr",
     "output_type": "stream",
     "text": [
      "WARNING:snowflake.snowpark:ModelRegistry.list_deployments() is in private preview since 1.0.1. Do not use it in production. \n"
     ]
    },
    {
     "data": {
      "text/html": [
       "<div>\n",
       "<style scoped>\n",
       "    .dataframe tbody tr th:only-of-type {\n",
       "        vertical-align: middle;\n",
       "    }\n",
       "\n",
       "    .dataframe tbody tr th {\n",
       "        vertical-align: top;\n",
       "    }\n",
       "\n",
       "    .dataframe thead th {\n",
       "        text-align: right;\n",
       "    }\n",
       "</style>\n",
       "<table border=\"1\" class=\"dataframe\">\n",
       "  <thead>\n",
       "    <tr style=\"text-align: right;\">\n",
       "      <th></th>\n",
       "      <th>MODEL_NAME</th>\n",
       "      <th>MODEL_VERSION</th>\n",
       "      <th>DEPLOYMENT_NAME</th>\n",
       "      <th>CREATION_TIME</th>\n",
       "      <th>TARGET_METHOD</th>\n",
       "      <th>TARGET_PLATFORM</th>\n",
       "      <th>SIGNATURE</th>\n",
       "      <th>OPTIONS</th>\n",
       "      <th>STAGE_PATH</th>\n",
       "      <th>ROLE</th>\n",
       "    </tr>\n",
       "  </thead>\n",
       "  <tbody>\n",
       "    <tr>\n",
       "      <th>0</th>\n",
       "      <td>LLAMA2_7b_CHAT</td>\n",
       "      <td>FineTunedV1.1</td>\n",
       "      <td>FINETUNED_LLAMA2</td>\n",
       "      <td>2023-11-16 09:10:16.636000-08:00</td>\n",
       "      <td>infer</td>\n",
       "      <td>SNOWPARK_CONTAINER_SERVICES</td>\n",
       "      <td>{\\n  \"inputs\": [\\n    {\\n      \"name\": \"input\",\\n      \"type\": \"STRING\"\\n    }\\n  ],\\n  \"outputs\": [\\n    {\\n      \"name\": \"generated_text\",\\n      \"type\": \"STRING\"\\n    }\\n  ]\\n}</td>\n",
       "      <td>{\\n  \"compute_pool\": \"DASH_BUILD_GPU3\",\\n  \"num_gpus\": 1\\n}</td>\n",
       "      <td>@DASH_DB.DASH_SCHEMA._SYSTEM_REGISTRY_DEPLOYMENTS_STAGE/FINETUNED_LLAMA2/</td>\n",
       "      <td>\"DASH_SPCS\"</td>\n",
       "    </tr>\n",
       "  </tbody>\n",
       "</table>\n",
       "</div>"
      ],
      "text/plain": [
       "       MODEL_NAME  MODEL_VERSION   DEPLOYMENT_NAME  \\\n",
       "0  LLAMA2_7b_CHAT  FineTunedV1.1  FINETUNED_LLAMA2   \n",
       "\n",
       "                     CREATION_TIME TARGET_METHOD              TARGET_PLATFORM  \\\n",
       "0 2023-11-16 09:10:16.636000-08:00         infer  SNOWPARK_CONTAINER_SERVICES   \n",
       "\n",
       "                                                                                                                                                                             SIGNATURE  \\\n",
       "0  {\\n  \"inputs\": [\\n    {\\n      \"name\": \"input\",\\n      \"type\": \"STRING\"\\n    }\\n  ],\\n  \"outputs\": [\\n    {\\n      \"name\": \"generated_text\",\\n      \"type\": \"STRING\"\\n    }\\n  ]\\n}   \n",
       "\n",
       "                                                       OPTIONS  \\\n",
       "0  {\\n  \"compute_pool\": \"DASH_BUILD_GPU3\",\\n  \"num_gpus\": 1\\n}   \n",
       "\n",
       "                                                                  STAGE_PATH  \\\n",
       "0  @DASH_DB.DASH_SCHEMA._SYSTEM_REGISTRY_DEPLOYMENTS_STAGE/FINETUNED_LLAMA2/   \n",
       "\n",
       "          ROLE  \n",
       "0  \"DASH_SPCS\"  "
      ]
     },
     "execution_count": 14,
     "metadata": {},
     "output_type": "execute_result"
    }
   ],
   "source": [
    "registry.list_deployments(model_name=MODEL_NAME,model_version=MODEL_VERSION).to_pandas()"
   ]
  },
  {
   "cell_type": "code",
   "execution_count": 18,
   "id": "b26134b3-9f3b-4834-91e6-d3115a605502",
   "metadata": {
    "tags": []
   },
   "outputs": [
    {
     "name": "stderr",
     "output_type": "stream",
     "text": [
      "WARNING:snowflake.snowpark:ModelRegistry.delete_deployment() is in private preview since 1.0.1. Do not use it in production. \n"
     ]
    }
   ],
   "source": [
    "# registry.delete_deployment(model_name=MODEL_NAME,model_version=MODEL_VERSION,deployment_name=DEPLOYMENT_NAME)"
   ]
  },
  {
   "cell_type": "code",
   "execution_count": 19,
   "id": "4bc2f21a-cfcb-459b-afe8-c859acad9a2a",
   "metadata": {
    "tags": []
   },
   "outputs": [
    {
     "name": "stderr",
     "output_type": "stream",
     "text": [
      "WARNING:snowflake.snowpark:ModelRegistry.delete_model() is in private preview since 0.2.0. Do not use it in production. \n"
     ]
    }
   ],
   "source": [
    "# registry.delete_model(model_name=MODEL_NAME,model_version=MODEL_VERSION,delete_artifact=True)"
   ]
  },
  {
   "cell_type": "markdown",
   "id": "3b9ef244-2df3-46e5-ac6d-b4c40bb56fc5",
   "metadata": {},
   "source": [
    "### Reference Llama 2 from Fine Tuning"
   ]
  },
  {
   "cell_type": "code",
   "execution_count": 20,
   "id": "3ff039a5-36b9-4642-a242-b67e75a66e40",
   "metadata": {
    "tags": []
   },
   "outputs": [
    {
     "name": "stderr",
     "output_type": "stream",
     "text": [
      "WARNING:snowflake.snowpark:ModelRegistry.deploy() is in private preview since 0.2.0. Do not use it in production. \n",
      "/opt/conda/envs/rapids/lib/python3.8/site-packages/snowflake/ml/model/_packager/model_env/model_env.py:353: UserWarning: Found dependencies specified as pip requirements. This may prevent model deploying to Snowflake Warehouse.\n",
      "  warnings.warn(\n"
     ]
    },
    {
     "name": "stdout",
     "output_type": "stream",
     "text": [
      "CPU times: user 1.74 s, sys: 292 ms, total: 2.03 s\n",
      "Wall time: 2min 56s\n"
     ]
    },
    {
     "data": {
      "text/plain": [
       "{'name': 'DASH_DB.DASH_SCHEMA.FINETUNED_LLAMA2',\n",
       " 'platform': <TargetPlatform.SNOWPARK_CONTAINER_SERVICES: 'SNOWPARK_CONTAINER_SERVICES'>,\n",
       " 'target_method': 'infer',\n",
       " 'signature': ModelSignature(\n",
       "                     inputs=[\n",
       "                         FeatureSpec(dtype=DataType.STRING, name='input')\n",
       "                     ],\n",
       "                     outputs=[\n",
       "                         FeatureSpec(dtype=DataType.STRING, name='generated_text')\n",
       "                     ]\n",
       "                 ),\n",
       " 'options': {'compute_pool': 'DASH_BUILD_GPU3', 'num_gpus': 1},\n",
       " 'details': {'image_name': 'sfsenorthamerica-build-spcs.registry.snowflakecomputing.com/dash_db/dash_schema/snowml_repo/a2dc5950178b8bf1c3764f03dddcbe86ea99c226:latest',\n",
       "  'service_spec': \"spec:\\n  container:\\n  - env:\\n      MODEL_ZIP_STAGE_PATH: /DASH_DB.DASH_SCHEMA.SNOWML_MODEL_97005C9C84C811EEB02EE246F4FD5A27/model.zip\\n      NUM_WORKERS: 1\\n      SNOWML_USE_GPU: true\\n      TARGET_METHOD: infer\\n      _CONCURRENT_REQUESTS_MAX: 1\\n    image: sfsenorthamerica-build-spcs.registry.snowflakecomputing.com/dash_db/dash_schema/snowml_repo/a2dc5950178b8bf1c3764f03dddcbe86ea99c226:latest\\n    name: inference-server\\n    readinessProbe:\\n      path: /health\\n      port: 5000\\n    resources:\\n      limits:\\n        nvidia.com/gpu: 1\\n      requests:\\n        nvidia.com/gpu: 1\\n    volumeMounts:\\n    - mountPath: /local/user/vol1\\n      name: vol1\\n    - mountPath: DASH_DB.DASH_SCHEMA.SNOWML_MODEL_97005C9C84C811EEB02EE246F4FD5A27\\n      name: stage\\n  endpoint:\\n  - name: predict\\n    port: 5000\\n  volume:\\n  - name: vol1\\n    source: local\\n  - gid: 1000\\n    name: stage\\n    source: '@DASH_DB.DASH_SCHEMA.SNOWML_MODEL_97005C9C84C811EEB02EE246F4FD5A27'\\n    uid: 1000\\n\",\n",
       "  'service_function_sql': \"\\n            CREATE OR REPLACE FUNCTION DASH_DB.DASH_SCHEMA.FINETUNED_LLAMA2(input OBJECT)\\n                RETURNS OBJECT\\n                SERVICE=DASH_DB.DASH_SCHEMA.service_97005c9c84c811eeb02ee246f4fd5a27\\n                ENDPOINT=predict\\n                MAX_BATCH_ROWS = 100\\n                AS '/predict'\\n            \"}}"
      ]
     },
     "execution_count": 20,
     "metadata": {},
     "output_type": "execute_result"
    }
   ],
   "source": [
    "%%time\n",
    "#referencing our fine tuned model\n",
    "#referencing huggingface token\n",
    "options = llm.LLMOptions(\n",
    "    token=connection_parameters['huggingface_token'],\n",
    "    max_batch_size=100,\n",
    ")\n",
    "#referencing our fine tuned weights and using the hugging face token to merge with base llama model\n",
    "llama_model = llm.LLM(\n",
    "    model_id_or_path='output_weights_dir',\n",
    "    options=options\n",
    ")\n",
    "\n",
    "# log model in registry\n",
    "llama_model_ref = registry.log_model(\n",
    "    model_name=MODEL_NAME,\n",
    "    model_version=MODEL_VERSION,\n",
    "    model=llama_model\n",
    ")\n",
    "\n",
    "# deploy model\n",
    "llama_model_ref.deploy(\n",
    "    deployment_name=DEPLOYMENT_NAME, \n",
    "    platform=deploy_platforms.TargetPlatform.SNOWPARK_CONTAINER_SERVICES,\n",
    "    permanent=True, \n",
    "   options={\"compute_pool\": COMPUTE_POOL, \"num_gpus\": 1})"
   ]
  },
  {
   "cell_type": "code",
   "execution_count": 21,
   "id": "ae82d020-a7ce-4a88-858f-5467b88406db",
   "metadata": {},
   "outputs": [],
   "source": [
    "# if its already deployed run the following:\n",
    "llama_model_ref = model_registry.ModelReference(\n",
    "    registry=registry, \n",
    "    model_name=MODEL_NAME, \n",
    "    model_version=MODEL_VERSION)"
   ]
  },
  {
   "cell_type": "markdown",
   "id": "3654a572-97fb-48bb-a1b3-510a5d62690e",
   "metadata": {},
   "source": [
    "## Inference on Eval Dataset using fine-tuned Llama 2"
   ]
  },
  {
   "cell_type": "code",
   "execution_count": 22,
   "id": "cd360c91-5df0-44ac-bbb6-b07f13bac9a1",
   "metadata": {
    "tags": []
   },
   "outputs": [
    {
     "data": {
      "text/html": [
       "<div>\n",
       "<style scoped>\n",
       "    .dataframe tbody tr th:only-of-type {\n",
       "        vertical-align: middle;\n",
       "    }\n",
       "\n",
       "    .dataframe tbody tr th {\n",
       "        vertical-align: top;\n",
       "    }\n",
       "\n",
       "    .dataframe thead th {\n",
       "        text-align: right;\n",
       "    }\n",
       "</style>\n",
       "<table border=\"1\" class=\"dataframe\">\n",
       "  <thead>\n",
       "    <tr style=\"text-align: right;\">\n",
       "      <th></th>\n",
       "      <th>instruction</th>\n",
       "      <th>input</th>\n",
       "      <th>output</th>\n",
       "      <th>language</th>\n",
       "      <th>id</th>\n",
       "      <th>lang_label</th>\n",
       "    </tr>\n",
       "  </thead>\n",
       "  <tbody>\n",
       "    <tr>\n",
       "      <th>0</th>\n",
       "      <td>Extract JSON response with 'location' and 'toy_list' as keys. 'location': Location of the caller. Include city only.'toy_list': List of toy names from the caller.</td>\n",
       "      <td>\\n[INST] &lt;&lt;SYS&gt;&gt;\\nBelow is an instruction that describes a task, paired with an input that provides further context. Write a response that appropriately completes the request.\\n&lt;&lt;/SYS&gt;&gt;\\n### Instruction:\\nExtract JSON response with 'location' and 'toy_list' as keys. 'location': Location of the caller. Include city only.'toy_list': List of toy names from the caller.\\n### Input:\\n\"caller: Hi there! \\nfrosty: Hello! Welcome to our Holiday Wish List line! How can I help you today? \\ncaller: My name is Sarah and I'm calling from London. I wanted to submit a wish list for my child. \\nfrosty: Wonderful, Sarah! It's great to have you on the line. What country do you live in? \\ncaller: I live in the United Kingdom. \\nfrosty: That's fantastic! What's on your wish list? \\ncaller: I think my child would like the transformers bumblebee. \\nfrosty: Great choice! Why are you interested in this toy? \\ncaller: My child loves action figures and Transformers. I think he'll have a lot of fun with this one. \\nfrosty: That sounds perfect! How do you and your family plan to celebrate the holiday season? \\ncaller: We usually have a big family gathering at our house with lots of food and games. \\nfrosty: That sounds lovely! Do you have a favorite holiday memory or pastime? \\ncaller: My favorite memory is baking holiday cookies with my mom when I was a child. \\nfrosty: That's a beautiful memory! So, just to confirm, you would like to add the Transformers Rise of the Beasts Beast-Mode Bumblebee to your wish list? \\ncaller: Yes, that's correct! \\nfrosty: Excellent! Thank you, Sarah, and I hope you and your family have a wonderful holiday season! \\ncaller: Thank you! Have a great day! \\nfrosty: You too! Goodbye!\"\\n### Output:\\n</td>\n",
       "      <td>{\"toy_list\": [\"Transformers Rise of the Beasts Beast-Mode Bumblebee\"], \"location\": \"London\"}</td>\n",
       "      <td>EN</td>\n",
       "      <td>39</td>\n",
       "      <td>0</td>\n",
       "    </tr>\n",
       "    <tr>\n",
       "      <th>1</th>\n",
       "      <td>Extract JSON response with 'location' and 'toy_list' as keys. 'location': Location of the caller. Include city only.'toy_list': List of toy names from the caller.</td>\n",
       "      <td>\\n[INST] &lt;&lt;SYS&gt;&gt;\\nBelow is an instruction that describes a task, paired with an input that provides further context. Write a response that appropriately completes the request.\\n&lt;&lt;/SYS&gt;&gt;\\n### Instruction:\\nExtract JSON response with 'location' and 'toy_list' as keys. 'location': Location of the caller. Include city only.'toy_list': List of toy names from the caller.\\n### Input:\\n\"caller: Hello, my name is Shawn, and I'm calling from Vancouver. I need to submit a holiday wish list for my kids but I could use some help picking out the perfect toys.\\nfrosty: Hi Shawn, from Vancouver! Let's find the best toys for your kids. Can you tell me a bit about their interests?\\ncaller: My daughter is 5 years old, and she loves Sesame Street, especially Elmo. As for my son, he's 9 and really into Pok\\u00e9mon.\\nfrosty: I have just the toys in mind! How about the Sesame Street Monster Meditation Elmo for your daughter and the Pok\\u00e9mon 8-inch Plush First Partner Three-Pack for your son?\\ncaller: Those sound perfect! Please add them to the wish list.\\nfrosty: I've added the Sesame Street Monster Meditation Elmo for your daughter and the Pok\\u00e9mon 8-inch Plush First Partner Three-Pack for your son to the wish list. I hope they enjoy their gifts, and I wish your family a fantastic holiday season in Vancouver!\"\\n### Output:\\n</td>\n",
       "      <td>{\"toy_list\": [\"Sesame Street Monster Meditation Elmo\", \"Pok\\u00e9mon 8-Inch Plush First Partner Three-Pack\"], \"location\": \"Vancouver\"}</td>\n",
       "      <td>EN</td>\n",
       "      <td>525</td>\n",
       "      <td>0</td>\n",
       "    </tr>\n",
       "    <tr>\n",
       "      <th>2</th>\n",
       "      <td>Extract JSON response with 'location' and 'toy_list' as keys. 'location': Location of the caller. Include city only.'toy_list': List of toy names from the caller.</td>\n",
       "      <td>\\n[INST] &lt;&lt;SYS&gt;&gt;\\nBelow is an instruction that describes a task, paired with an input that provides further context. Write a response that appropriately completes the request.\\n&lt;&lt;/SYS&gt;&gt;\\n### Instruction:\\nExtract JSON response with 'location' and 'toy_list' as keys. 'location': Location of the caller. Include city only.'toy_list': List of toy names from the caller.\\n### Input:\\n\"caller: Hi, can you help me with my holiday wish list?\\nfrosty: Of course! What's your name, and where are you calling from?\\ncaller: My name is James, and I'm in Melbourne.\\nfrosty: Hi James! Are you considering any specific toys from our catalog?\\ncaller: I can't decide between the ninja turtles delivery van and the spiderman playset.\\nfrosty: Both the Teenage Mutant Ninja Turtles: Mutant Mayhem Pizza Fire Delivery Van and Marvel's Spidey and His Amazing Friends Web Spinners playset are excellent choices! Why are you interested in these toys?\\ncaller: My child loves superhero and action toys.\\nfrosty: That makes sense! Can you tell me a little more about your holiday plans this season?\\ncaller: Our family is planning to stay home, watch movies, and just relax together.\\nfrosty: Sounds cozy and wonderful! Based on your child's love for superheroes, either toy would be great. Do you need help making a final decision?\\ncaller: Yes, please.\\nfrosty: The TMNT Pizza Fire Delivery Van offers an iconic vehicle for imaginative play. The Spiderman playset encourages interactive play with web-spinning action. Given this information, do you have a preference?\\ncaller: I think I'll go with the spiderman playset.\\nfrosty: Excellent choice! I have Marvel's Spidey and His Amazing Friends Web Spinners playset on your wish list. I hope your child has a blast with it, and you have a relaxing holiday season!\\ncaller: Thank you! Goodbye.\\nfrosty: Goodbye, James! Take care.\"\\n### Output:\\n</td>\n",
       "      <td>{\"toy_list\": [\"Marvel's Spidey and His Amazing Friends Web Spinners playset\"], \"location\": \"Melbourne\"}</td>\n",
       "      <td>EN</td>\n",
       "      <td>611</td>\n",
       "      <td>0</td>\n",
       "    </tr>\n",
       "    <tr>\n",
       "      <th>3</th>\n",
       "      <td>Extract JSON response with 'location' and 'toy_list' as keys. 'location': Location of the caller. Include city only.'toy_list': List of toy names from the caller.</td>\n",
       "      <td>\\n[INST] &lt;&lt;SYS&gt;&gt;\\nBelow is an instruction that describes a task, paired with an input that provides further context. Write a response that appropriately completes the request.\\n&lt;&lt;/SYS&gt;&gt;\\n### Instruction:\\nExtract JSON response with 'location' and 'toy_list' as keys. 'location': Location of the caller. Include city only.'toy_list': List of toy names from the caller.\\n### Input:\\n\"caller: Hi there, I need help picking a toy for my child's wish list.\\nfrosty: Hello! I'm Frosty the voice bot, and I'll be happy to help. What's your name and where are you calling from?\\ncaller: My name is Emily, and I'm from Chicago.\\nfrosty: Hi Emily! What type of toys is your child interested in?\\ncaller: Something educational, but also fun. We want them to learn while they play.\\nfrosty: How about the Snap Circuits: Junior or the LeapFrog Magic Adventures Microscope?\\ncaller: Hm, I've heard of Snap Circuits before. What's the Magic Adventures Microscope?\\nfrosty: The LeapFrog Magic Adventures Microscope is an interactive microscope with 20 slides, offering kids the chance to explore the world around them while learning about science and nature.\\ncaller: That sounds interesting. Let's go with the Magic Adventures Microscope!\\nfrosty: Excellent choice! How do you and your family plan to celebrate the holiday season?\\ncaller: We usually bake cookies together and enjoy a cozy movie night indoors.\\nfrosty: Sounds delightful! What is it about this time of the year that you enjoy the most?\\ncaller: I love seeing the excitement on my child's face as they experience all the festivities.\\nfrosty: That's precious! So I have the LeapFrog Magic Adventures Microscope on your child's wish list. Is there anything else you'd like to add?\\ncaller: No, that should be it for now. Thank you, Frosty!\\nfrosty: You're welcome, Emily! Have a wonderful holiday season!\\ncaller: You too!\"\\n### Output:\\n</td>\n",
       "      <td>{\"toy_list\": [\"LeapFrog Magic Adventures Microscope\"], \"location\": \"Chicago\"}</td>\n",
       "      <td>EN</td>\n",
       "      <td>687</td>\n",
       "      <td>0</td>\n",
       "    </tr>\n",
       "    <tr>\n",
       "      <th>4</th>\n",
       "      <td>Extract JSON response with 'location' and 'toy_list' as keys. 'location': Location of the caller. Include city only.'toy_list': List of toy names from the caller.</td>\n",
       "      <td>\\n[INST] &lt;&lt;SYS&gt;&gt;\\nBelow is an instruction that describes a task, paired with an input that provides further context. Write a response that appropriately completes the request.\\n&lt;&lt;/SYS&gt;&gt;\\n### Instruction:\\nExtract JSON response with 'location' and 'toy_list' as keys. 'location': Location of the caller. Include city only.'toy_list': List of toy names from the caller.\\n### Input:\\n\"caller: Hi, I am here to submit a holiday wish list for my child.\\nfrosty: Wonderful! I'd be happy to help. May I have your name, please?\\ncaller: Sure, I am Sarah from Wellington.\\nfrosty: Nice to meet you, Sarah! Let's get started on that wish list. Can you tell me the toy or toys your child is interested in?\\ncaller: My child really wants the furby, but I am also considering the trasformers bumblebee.\\nfrosty: Great choices! Why are you interested in these toys?\\ncaller: Well, my kid loves interactive plush toys and also enjoys action figures, so these seem like good options.\\nfrosty: I see. How do you and your family plan to celebrate the holiday season?\\ncaller: We usually have a big family gathering with lots of food and games. It's always so much fun!\\nfrosty: That sounds like a great time! What's your favorite holiday memory?\\ncaller: My favorite memory is when we all went caroling around the neighborhood. It was magical!\\nfrosty: What a lovely memory! Now, back to the toys, do you want to include both the furby and trasformers bumblebee in the wish list?\\ncaller: Hmm, let me think. I guess we can go with just the furby for now.\\nfrosty: Alright, I've noted the furby on the wish list. Can you confirm that this is the final toy choice?\\ncaller: Yes, that's correct.\\nfrosty: Fantastic! I've got the furby on your holiday wish list. Have a wonderful holiday season, Sarah!\\ncaller: Thank you, Frosty! You too!\"\\n### Output:\\n</td>\n",
       "      <td>{\"toy_list\": [\"Furby interactive plush toy\"], \"location\": \"Wellington\"}</td>\n",
       "      <td>EN</td>\n",
       "      <td>187</td>\n",
       "      <td>0</td>\n",
       "    </tr>\n",
       "  </tbody>\n",
       "</table>\n",
       "</div>"
      ],
      "text/plain": [
       "                                                                                                                                                          instruction  \\\n",
       "0  Extract JSON response with 'location' and 'toy_list' as keys. 'location': Location of the caller. Include city only.'toy_list': List of toy names from the caller.   \n",
       "1  Extract JSON response with 'location' and 'toy_list' as keys. 'location': Location of the caller. Include city only.'toy_list': List of toy names from the caller.   \n",
       "2  Extract JSON response with 'location' and 'toy_list' as keys. 'location': Location of the caller. Include city only.'toy_list': List of toy names from the caller.   \n",
       "3  Extract JSON response with 'location' and 'toy_list' as keys. 'location': Location of the caller. Include city only.'toy_list': List of toy names from the caller.   \n",
       "4  Extract JSON response with 'location' and 'toy_list' as keys. 'location': Location of the caller. Include city only.'toy_list': List of toy names from the caller.   \n",
       "\n",
       "                                                                                                                                                                                                                                                                                                                                                                                                                                                                                                                                                                                                                                                                                                                                                                                                                                                                                                                                                                                                                                                                                                                                                                                                                                                                                                                                                                                                                                                                                                                                                                                                                                                                                                                                                                                                                                                                                                                                                              input  \\\n",
       "0                                                                                                                                                                   \\n[INST] <<SYS>>\\nBelow is an instruction that describes a task, paired with an input that provides further context. Write a response that appropriately completes the request.\\n<</SYS>>\\n### Instruction:\\nExtract JSON response with 'location' and 'toy_list' as keys. 'location': Location of the caller. Include city only.'toy_list': List of toy names from the caller.\\n### Input:\\n\"caller: Hi there! \\nfrosty: Hello! Welcome to our Holiday Wish List line! How can I help you today? \\ncaller: My name is Sarah and I'm calling from London. I wanted to submit a wish list for my child. \\nfrosty: Wonderful, Sarah! It's great to have you on the line. What country do you live in? \\ncaller: I live in the United Kingdom. \\nfrosty: That's fantastic! What's on your wish list? \\ncaller: I think my child would like the transformers bumblebee. \\nfrosty: Great choice! Why are you interested in this toy? \\ncaller: My child loves action figures and Transformers. I think he'll have a lot of fun with this one. \\nfrosty: That sounds perfect! How do you and your family plan to celebrate the holiday season? \\ncaller: We usually have a big family gathering at our house with lots of food and games. \\nfrosty: That sounds lovely! Do you have a favorite holiday memory or pastime? \\ncaller: My favorite memory is baking holiday cookies with my mom when I was a child. \\nfrosty: That's a beautiful memory! So, just to confirm, you would like to add the Transformers Rise of the Beasts Beast-Mode Bumblebee to your wish list? \\ncaller: Yes, that's correct! \\nfrosty: Excellent! Thank you, Sarah, and I hope you and your family have a wonderful holiday season! \\ncaller: Thank you! Have a great day! \\nfrosty: You too! Goodbye!\"\\n### Output:\\n   \n",
       "1                                                                                                                                                                                                                                                                                                                                                                                                                                                                                                                                                                             \\n[INST] <<SYS>>\\nBelow is an instruction that describes a task, paired with an input that provides further context. Write a response that appropriately completes the request.\\n<</SYS>>\\n### Instruction:\\nExtract JSON response with 'location' and 'toy_list' as keys. 'location': Location of the caller. Include city only.'toy_list': List of toy names from the caller.\\n### Input:\\n\"caller: Hello, my name is Shawn, and I'm calling from Vancouver. I need to submit a holiday wish list for my kids but I could use some help picking out the perfect toys.\\nfrosty: Hi Shawn, from Vancouver! Let's find the best toys for your kids. Can you tell me a bit about their interests?\\ncaller: My daughter is 5 years old, and she loves Sesame Street, especially Elmo. As for my son, he's 9 and really into Pok\\u00e9mon.\\nfrosty: I have just the toys in mind! How about the Sesame Street Monster Meditation Elmo for your daughter and the Pok\\u00e9mon 8-inch Plush First Partner Three-Pack for your son?\\ncaller: Those sound perfect! Please add them to the wish list.\\nfrosty: I've added the Sesame Street Monster Meditation Elmo for your daughter and the Pok\\u00e9mon 8-inch Plush First Partner Three-Pack for your son to the wish list. I hope they enjoy their gifts, and I wish your family a fantastic holiday season in Vancouver!\"\\n### Output:\\n   \n",
       "2              \\n[INST] <<SYS>>\\nBelow is an instruction that describes a task, paired with an input that provides further context. Write a response that appropriately completes the request.\\n<</SYS>>\\n### Instruction:\\nExtract JSON response with 'location' and 'toy_list' as keys. 'location': Location of the caller. Include city only.'toy_list': List of toy names from the caller.\\n### Input:\\n\"caller: Hi, can you help me with my holiday wish list?\\nfrosty: Of course! What's your name, and where are you calling from?\\ncaller: My name is James, and I'm in Melbourne.\\nfrosty: Hi James! Are you considering any specific toys from our catalog?\\ncaller: I can't decide between the ninja turtles delivery van and the spiderman playset.\\nfrosty: Both the Teenage Mutant Ninja Turtles: Mutant Mayhem Pizza Fire Delivery Van and Marvel's Spidey and His Amazing Friends Web Spinners playset are excellent choices! Why are you interested in these toys?\\ncaller: My child loves superhero and action toys.\\nfrosty: That makes sense! Can you tell me a little more about your holiday plans this season?\\ncaller: Our family is planning to stay home, watch movies, and just relax together.\\nfrosty: Sounds cozy and wonderful! Based on your child's love for superheroes, either toy would be great. Do you need help making a final decision?\\ncaller: Yes, please.\\nfrosty: The TMNT Pizza Fire Delivery Van offers an iconic vehicle for imaginative play. The Spiderman playset encourages interactive play with web-spinning action. Given this information, do you have a preference?\\ncaller: I think I'll go with the spiderman playset.\\nfrosty: Excellent choice! I have Marvel's Spidey and His Amazing Friends Web Spinners playset on your wish list. I hope your child has a blast with it, and you have a relaxing holiday season!\\ncaller: Thank you! Goodbye.\\nfrosty: Goodbye, James! Take care.\"\\n### Output:\\n   \n",
       "3  \\n[INST] <<SYS>>\\nBelow is an instruction that describes a task, paired with an input that provides further context. Write a response that appropriately completes the request.\\n<</SYS>>\\n### Instruction:\\nExtract JSON response with 'location' and 'toy_list' as keys. 'location': Location of the caller. Include city only.'toy_list': List of toy names from the caller.\\n### Input:\\n\"caller: Hi there, I need help picking a toy for my child's wish list.\\nfrosty: Hello! I'm Frosty the voice bot, and I'll be happy to help. What's your name and where are you calling from?\\ncaller: My name is Emily, and I'm from Chicago.\\nfrosty: Hi Emily! What type of toys is your child interested in?\\ncaller: Something educational, but also fun. We want them to learn while they play.\\nfrosty: How about the Snap Circuits: Junior or the LeapFrog Magic Adventures Microscope?\\ncaller: Hm, I've heard of Snap Circuits before. What's the Magic Adventures Microscope?\\nfrosty: The LeapFrog Magic Adventures Microscope is an interactive microscope with 20 slides, offering kids the chance to explore the world around them while learning about science and nature.\\ncaller: That sounds interesting. Let's go with the Magic Adventures Microscope!\\nfrosty: Excellent choice! How do you and your family plan to celebrate the holiday season?\\ncaller: We usually bake cookies together and enjoy a cozy movie night indoors.\\nfrosty: Sounds delightful! What is it about this time of the year that you enjoy the most?\\ncaller: I love seeing the excitement on my child's face as they experience all the festivities.\\nfrosty: That's precious! So I have the LeapFrog Magic Adventures Microscope on your child's wish list. Is there anything else you'd like to add?\\ncaller: No, that should be it for now. Thank you, Frosty!\\nfrosty: You're welcome, Emily! Have a wonderful holiday season!\\ncaller: You too!\"\\n### Output:\\n   \n",
       "4                                                         \\n[INST] <<SYS>>\\nBelow is an instruction that describes a task, paired with an input that provides further context. Write a response that appropriately completes the request.\\n<</SYS>>\\n### Instruction:\\nExtract JSON response with 'location' and 'toy_list' as keys. 'location': Location of the caller. Include city only.'toy_list': List of toy names from the caller.\\n### Input:\\n\"caller: Hi, I am here to submit a holiday wish list for my child.\\nfrosty: Wonderful! I'd be happy to help. May I have your name, please?\\ncaller: Sure, I am Sarah from Wellington.\\nfrosty: Nice to meet you, Sarah! Let's get started on that wish list. Can you tell me the toy or toys your child is interested in?\\ncaller: My child really wants the furby, but I am also considering the trasformers bumblebee.\\nfrosty: Great choices! Why are you interested in these toys?\\ncaller: Well, my kid loves interactive plush toys and also enjoys action figures, so these seem like good options.\\nfrosty: I see. How do you and your family plan to celebrate the holiday season?\\ncaller: We usually have a big family gathering with lots of food and games. It's always so much fun!\\nfrosty: That sounds like a great time! What's your favorite holiday memory?\\ncaller: My favorite memory is when we all went caroling around the neighborhood. It was magical!\\nfrosty: What a lovely memory! Now, back to the toys, do you want to include both the furby and trasformers bumblebee in the wish list?\\ncaller: Hmm, let me think. I guess we can go with just the furby for now.\\nfrosty: Alright, I've noted the furby on the wish list. Can you confirm that this is the final toy choice?\\ncaller: Yes, that's correct.\\nfrosty: Fantastic! I've got the furby on your holiday wish list. Have a wonderful holiday season, Sarah!\\ncaller: Thank you, Frosty! You too!\"\\n### Output:\\n   \n",
       "\n",
       "                                                                                                                                   output  \\\n",
       "0                                            {\"toy_list\": [\"Transformers Rise of the Beasts Beast-Mode Bumblebee\"], \"location\": \"London\"}   \n",
       "1  {\"toy_list\": [\"Sesame Street Monster Meditation Elmo\", \"Pok\\u00e9mon 8-Inch Plush First Partner Three-Pack\"], \"location\": \"Vancouver\"}   \n",
       "2                                 {\"toy_list\": [\"Marvel's Spidey and His Amazing Friends Web Spinners playset\"], \"location\": \"Melbourne\"}   \n",
       "3                                                           {\"toy_list\": [\"LeapFrog Magic Adventures Microscope\"], \"location\": \"Chicago\"}   \n",
       "4                                                                 {\"toy_list\": [\"Furby interactive plush toy\"], \"location\": \"Wellington\"}   \n",
       "\n",
       "  language   id  lang_label  \n",
       "0       EN   39           0  \n",
       "1       EN  525           0  \n",
       "2       EN  611           0  \n",
       "3       EN  687           0  \n",
       "4       EN  187           0  "
      ]
     },
     "execution_count": 22,
     "metadata": {},
     "output_type": "execute_result"
    }
   ],
   "source": [
    "eval_df['input'] = eval_df.apply(\n",
    "    lambda x: eval_prompt.format(\n",
    "        instruction=x[\"instruction\"],\n",
    "        input_=x[\"input\"].replace('\\\\n', '\\n')\n",
    "    ), axis=1\n",
    ")\n",
    "eval_df.reset_index(drop=True, inplace=True)\n",
    "eval_df.head()"
   ]
  },
  {
   "cell_type": "code",
   "execution_count": 23,
   "id": "fd02bca2-f2be-4d2e-b41c-9d0c6775cb35",
   "metadata": {
    "tags": []
   },
   "outputs": [
    {
     "name": "stderr",
     "output_type": "stream",
     "text": [
      "WARNING:snowflake.snowpark:ModelReference.predict() is in private preview since 0.2.0. Do not use it in production. \n",
      "WARNING:snowflake.snowpark:ModelRegistry.get_deployment() is in private preview since 1.0.1. Do not use it in production. \n"
     ]
    },
    {
     "data": {
      "text/html": [
       "<div>\n",
       "<style scoped>\n",
       "    .dataframe tbody tr th:only-of-type {\n",
       "        vertical-align: middle;\n",
       "    }\n",
       "\n",
       "    .dataframe tbody tr th {\n",
       "        vertical-align: top;\n",
       "    }\n",
       "\n",
       "    .dataframe thead th {\n",
       "        text-align: right;\n",
       "    }\n",
       "</style>\n",
       "<table border=\"1\" class=\"dataframe\">\n",
       "  <thead>\n",
       "    <tr style=\"text-align: right;\">\n",
       "      <th></th>\n",
       "      <th>output</th>\n",
       "      <th>predicted</th>\n",
       "    </tr>\n",
       "  </thead>\n",
       "  <tbody>\n",
       "    <tr>\n",
       "      <th>0</th>\n",
       "      <td>{\"toy_list\": [\"Transformers Rise of the Beasts Beast-Mode Bumblebee\"], \"location\": \"London\"}</td>\n",
       "      <td>{\\n\"location\": \"London\",\\n\"toy_list\": [\"Transformers Rise of the Beasts Beast-Mode Bumblebee\"]\\n}\\n</td>\n",
       "    </tr>\n",
       "    <tr>\n",
       "      <th>1</th>\n",
       "      <td>{\"toy_list\": [\"Sesame Street Monster Meditation Elmo\", \"Pok\\u00e9mon 8-Inch Plush First Partner Three-Pack\"], \"location\": \"Vancouver\"}</td>\n",
       "      <td>{\"location\": \"Vancouver\", \"toy_list\": [\"Sesame Street Monster Meditation Elmo\", \"Pok\\u00e9mon 8-inch Plush First Partner Three-Pack\"]}\\n</td>\n",
       "    </tr>\n",
       "    <tr>\n",
       "      <th>2</th>\n",
       "      <td>{\"toy_list\": [\"Marvel's Spidey and His Amazing Friends Web Spinners playset\"], \"location\": \"Melbourne\"}</td>\n",
       "      <td>{\\n\"location\": \"Melbourne\",\\n\"toy_list\": [\"Marvel's Spidey and His Amazing Friends Web Spinners playset\"]\\n}\\n</td>\n",
       "    </tr>\n",
       "    <tr>\n",
       "      <th>3</th>\n",
       "      <td>{\"toy_list\": [\"LeapFrog Magic Adventures Microscope\"], \"location\": \"Chicago\"}</td>\n",
       "      <td>{\\n\"location\": \"Chicago\",\\n\"toy_list\": [\"LeapFrog Magic Adventures Microscope\"]\\n}\\n</td>\n",
       "    </tr>\n",
       "    <tr>\n",
       "      <th>4</th>\n",
       "      <td>{\"toy_list\": [\"Furby interactive plush toy\"], \"location\": \"Wellington\"}</td>\n",
       "      <td>{\\n\"location\": \"Wellington\",\\n\"toy_list\": [\"furby\"]\\n}\\n</td>\n",
       "    </tr>\n",
       "  </tbody>\n",
       "</table>\n",
       "</div>"
      ],
      "text/plain": [
       "                                                                                                                                   output  \\\n",
       "0                                            {\"toy_list\": [\"Transformers Rise of the Beasts Beast-Mode Bumblebee\"], \"location\": \"London\"}   \n",
       "1  {\"toy_list\": [\"Sesame Street Monster Meditation Elmo\", \"Pok\\u00e9mon 8-Inch Plush First Partner Three-Pack\"], \"location\": \"Vancouver\"}   \n",
       "2                                 {\"toy_list\": [\"Marvel's Spidey and His Amazing Friends Web Spinners playset\"], \"location\": \"Melbourne\"}   \n",
       "3                                                           {\"toy_list\": [\"LeapFrog Magic Adventures Microscope\"], \"location\": \"Chicago\"}   \n",
       "4                                                                 {\"toy_list\": [\"Furby interactive plush toy\"], \"location\": \"Wellington\"}   \n",
       "\n",
       "                                                                                                                                  predicted  \n",
       "0                                       {\\n\"location\": \"London\",\\n\"toy_list\": [\"Transformers Rise of the Beasts Beast-Mode Bumblebee\"]\\n}\\n  \n",
       "1  {\"location\": \"Vancouver\", \"toy_list\": [\"Sesame Street Monster Meditation Elmo\", \"Pok\\u00e9mon 8-inch Plush First Partner Three-Pack\"]}\\n  \n",
       "2                            {\\n\"location\": \"Melbourne\",\\n\"toy_list\": [\"Marvel's Spidey and His Amazing Friends Web Spinners playset\"]\\n}\\n  \n",
       "3                                                      {\\n\"location\": \"Chicago\",\\n\"toy_list\": [\"LeapFrog Magic Adventures Microscope\"]\\n}\\n  \n",
       "4                                                                                  {\\n\"location\": \"Wellington\",\\n\"toy_list\": [\"furby\"]\\n}\\n  "
      ]
     },
     "execution_count": 23,
     "metadata": {},
     "output_type": "execute_result"
    }
   ],
   "source": [
    "eval_df['predicted'] = llama_model_ref.predict(deployment_name=DEPLOYMENT_NAME,data=eval_df)#.head()\n",
    "eval_df[['output', 'predicted']].head()"
   ]
  },
  {
   "cell_type": "markdown",
   "id": "57ac4d8d-72c0-40ab-ae3d-54ac20f6874e",
   "metadata": {},
   "source": [
    "## Clean Up Resources\n",
    "\n",
    "Delete deployment and the model"
   ]
  },
  {
   "cell_type": "code",
   "execution_count": null,
   "id": "1a53426a-93a8-4bb2-88d1-da6a885b9fd1",
   "metadata": {},
   "outputs": [],
   "source": [
    "llama_model_ref.delete_deployment(deployment_name=DEPLOYMENT_NAME)\n",
    "llama_model_ref.delete_model(delete_artifact=True)"
   ]
  }
 ],
 "metadata": {
  "kernelspec": {
   "display_name": "Python 3 (ipykernel)",
   "language": "python",
   "name": "python3"
  },
  "language_info": {
   "codemirror_mode": {
    "name": "ipython",
    "version": 3
   },
   "file_extension": ".py",
   "mimetype": "text/x-python",
   "name": "python",
   "nbconvert_exporter": "python",
   "pygments_lexer": "ipython3",
   "version": "3.8.16"
  }
 },
 "nbformat": 4,
 "nbformat_minor": 5
}
